{
  "nbformat": 4,
  "nbformat_minor": 0,
  "metadata": {
    "colab": {
      "name": "Dictionary.ipynb",
      "provenance": [],
      "collapsed_sections": []
    },
    "kernelspec": {
      "name": "python3",
      "display_name": "Python 3"
    }
  },
  "cells": [
    {
      "cell_type": "markdown",
      "metadata": {
        "id": "xZH11dLyRGjt"
      },
      "source": [
        "**Given a dictionary inventory :**\r\n",
        "\r\n",
        "**car = {\"brand\": \"Ford”, “model\":\"Mustang\",\"year\":1964}**\r\n",
        "\r\n",
        "**1. Print the value of the \"model\" key of the car dictionary.**"
      ]
    },
    {
      "cell_type": "code",
      "metadata": {
        "id": "Wy6rlhFNN27b",
        "colab": {
          "base_uri": "https://localhost:8080/"
        },
        "outputId": "dff479aa-98f1-4069-84e0-1f2467419d7a"
      },
      "source": [
        "car = {'brand': 'Ford', 'model': 'Mustang','year':1964}\r\n",
        "\r\n",
        "print(\"The value of model is: \",car.get(\"model\"))"
      ],
      "execution_count": 4,
      "outputs": [
        {
          "output_type": "stream",
          "text": [
            "The value of model is:  Mustang\n"
          ],
          "name": "stdout"
        }
      ]
    },
    {
      "cell_type": "markdown",
      "metadata": {
        "id": "AoL-zjTSN8ag"
      },
      "source": [
        "**2. Change the \"year\" value from 1964 to 2020.**"
      ]
    },
    {
      "cell_type": "code",
      "metadata": {
        "id": "O2z0GplHOBeZ",
        "colab": {
          "base_uri": "https://localhost:8080/"
        },
        "outputId": "ed6ef9bb-4d45-447b-a910-ccf27f92a304"
      },
      "source": [
        "car = {'brand': 'Ford', 'model': 'Mustang','year':1964}\r\n",
        "\r\n",
        "print(car)\r\n",
        "print(\"Changing the value of year from 1964 to 2020\")\r\n",
        "print(\"--------------------------------------------\")\r\n",
        "car[\"year\"]=2020\r\n",
        "print(car)"
      ],
      "execution_count": 12,
      "outputs": [
        {
          "output_type": "stream",
          "text": [
            "{'brand': 'Ford', 'model': 'Mustang', 'year': 1964}\n",
            "Changing the value of year from 1964 to 2020\n",
            "--------------------------------------------\n",
            "{'brand': 'Ford', 'model': 'Mustang', 'year': 2020}\n"
          ],
          "name": "stdout"
        }
      ]
    },
    {
      "cell_type": "markdown",
      "metadata": {
        "id": "_my1x-U3OCPa"
      },
      "source": [
        "**3. Add the key/value pair \"colour”: \"red\" to the car dictionary**"
      ]
    },
    {
      "cell_type": "code",
      "metadata": {
        "id": "rdjGzVsgOGco",
        "colab": {
          "base_uri": "https://localhost:8080/"
        },
        "outputId": "76e41cc1-d80e-433d-cc87-38b9c960e3a1"
      },
      "source": [
        "car = {'brand': 'Ford', 'model': 'Mustang','year':1964}\r\n",
        "\r\n",
        "print(\"Adding a key/value pair to the car dictionary\")\r\n",
        "car[\"colour\"]=\"red\"\r\n",
        "print(car)"
      ],
      "execution_count": 14,
      "outputs": [
        {
          "output_type": "stream",
          "text": [
            "Adding a key/value pair to the car dictionary\n",
            "{'brand': 'Ford', 'model': 'Mustang', 'year': 1964, 'colour': 'red'}\n"
          ],
          "name": "stdout"
        }
      ]
    },
    {
      "cell_type": "markdown",
      "metadata": {
        "id": "kHNw7V3dOHL_"
      },
      "source": [
        "**Given a dictionary inventory :**\r\n",
        "\r\n",
        "**inventory = {'gold' : 500, 'pouch' : ['flint', 'twine', 'gemstone'],\r\n",
        "'backpack' : ['xylophone’, ‘dagger', 'bedroll’, ‘bread’, ‘loaf']}**\r\n",
        "\r\n",
        "**4. Add a key to inventory called 'pocket' and Set the value of\r\n",
        "'pocket' to be a list consisting of the strings 'seashell', 'strange\r\n",
        "berry', and 'lint'**"
      ]
    },
    {
      "cell_type": "code",
      "metadata": {
        "id": "M7RaXtgYOciX",
        "colab": {
          "base_uri": "https://localhost:8080/"
        },
        "outputId": "60153330-57bb-48de-814f-c61ecd838403"
      },
      "source": [
        "inventory = {'gold' : 500, 'pouch' : ['flint', 'twine', 'gemstone'], 'backpack' : ['xylophone’, ‘dagger', 'bedroll’, ‘bread’, ‘loaf']}\r\n",
        "\r\n",
        "inventory['pocket']=['seashell', 'strange berry', 'lint']\r\n",
        "print(inventory)"
      ],
      "execution_count": 16,
      "outputs": [
        {
          "output_type": "stream",
          "text": [
            "{'gold': 500, 'pouch': ['flint', 'twine', 'gemstone'], 'backpack': ['xylophone’, ‘dagger', 'bedroll’, ‘bread’, ‘loaf'], 'pocket': ['seashell', 'strange berry', 'lint']}\n"
          ],
          "name": "stdout"
        }
      ]
    },
    {
      "cell_type": "markdown",
      "metadata": {
        "id": "n4svm8_vOesa"
      },
      "source": [
        "**5. Sort the items in the list stored under the 'backpack' key.**"
      ]
    },
    {
      "cell_type": "code",
      "metadata": {
        "id": "36kEUM_MOjT5",
        "colab": {
          "base_uri": "https://localhost:8080/"
        },
        "outputId": "7f2364b1-5fdd-4a47-82be-521a7d7218d2"
      },
      "source": [
        "inventory = {'gold':500, 'pouch':['flint', 'twine', 'gemstone'], 'backpack':['xylophone’, ‘dagger', 'bedroll’, ‘bread’, ‘loaf'], 'pocket':['seashell', 'strange berry', 'lint']}\r\n",
        "\r\n",
        "print(inventory)\r\n",
        "print(\"After sorting the items in the list stored under the key 'backpack':\")\r\n",
        "print(\"--------------------------------------------------------\")\r\n",
        "inventory['backpack'].sort()\r\n",
        "print(inventory)"
      ],
      "execution_count": 29,
      "outputs": [
        {
          "output_type": "stream",
          "text": [
            "{'gold': 500, 'pouch': ['flint', 'twine', 'gemstone'], 'backpack': ['xylophone’, ‘dagger', 'bedroll’, ‘bread’, ‘loaf'], 'pocket': ['seashell', 'strange berry', 'lint']}\n",
            "After sorting the items in the list stored under the key 'backpack':\n",
            "--------------------------------------------------------\n",
            "{'gold': 500, 'pouch': ['flint', 'twine', 'gemstone'], 'backpack': ['bedroll’, ‘bread’, ‘loaf', 'xylophone’, ‘dagger'], 'pocket': ['seashell', 'strange berry', 'lint']}\n"
          ],
          "name": "stdout"
        }
      ]
    },
    {
      "cell_type": "markdown",
      "metadata": {
        "id": "KtNCnXsNOyx9"
      },
      "source": [
        "**6. Remove 'dagger' from the list of items stored under the\r\n",
        "'backpack' key.**"
      ]
    },
    {
      "cell_type": "code",
      "metadata": {
        "id": "586_feCOO2S9",
        "colab": {
          "base_uri": "https://localhost:8080/"
        },
        "outputId": "92f505f4-aa84-4b1b-dc9b-55682a01e5d3"
      },
      "source": [
        "inventory = {'gold':500, 'pouch':['flint', 'twine', 'gemstone'], 'backpack':['xylophone', 'dagger', 'bedroll', 'bread' , 'loaf'], 'pocket':['seashell', 'strange berry', 'lint']}\r\n",
        "\r\n",
        "print(inventory)\r\n",
        "print(\"After removing the item 'dagger' from the list stored under the key 'backpack':\")\r\n",
        "print(\"--------------------------------------------------------\")\r\n",
        "inventory['backpack'].remove('dagger')\r\n",
        "print(inventory)"
      ],
      "execution_count": 31,
      "outputs": [
        {
          "output_type": "stream",
          "text": [
            "{'gold': 500, 'pouch': ['flint', 'twine', 'gemstone'], 'backpack': ['xylophone', 'dagger', 'bedroll', 'bread', 'loaf'], 'pocket': ['seashell', 'strange berry', 'lint']}\n",
            "After removing the item 'dagger' from the list stored under the key 'backpack':\n",
            "--------------------------------------------------------\n",
            "{'gold': 500, 'pouch': ['flint', 'twine', 'gemstone'], 'backpack': ['xylophone', 'bedroll', 'bread', 'loaf'], 'pocket': ['seashell', 'strange berry', 'lint']}\n"
          ],
          "name": "stdout"
        }
      ]
    },
    {
      "cell_type": "markdown",
      "metadata": {
        "id": "aHJpyKT7O4Q3"
      },
      "source": [
        "**7. Add 50 to the number stored under the 'gold' key.**"
      ]
    },
    {
      "cell_type": "code",
      "metadata": {
        "id": "twvqh9y_PA2s",
        "colab": {
          "base_uri": "https://localhost:8080/"
        },
        "outputId": "f66c2d8c-6a73-4d94-dcd5-73438353ee11"
      },
      "source": [
        "inventory = {'gold':500, 'pouch':['flint', 'twine', 'gemstone'], 'backpack':['xylophone', 'dagger', 'bedroll', 'bread' , 'loaf'], 'pocket':['seashell', 'strange berry', 'lint']}\r\n",
        "\r\n",
        "print(inventory)\r\n",
        "print(\"After adding 50 to the number stored under the 'gold' key:\")\r\n",
        "print(\"--------------------------------------------------------\")\r\n",
        "inventory['gold']=inventory['gold']+50\r\n",
        "print(inventory)"
      ],
      "execution_count": 32,
      "outputs": [
        {
          "output_type": "stream",
          "text": [
            "{'gold': 500, 'pouch': ['flint', 'twine', 'gemstone'], 'backpack': ['xylophone', 'dagger', 'bedroll', 'bread', 'loaf'], 'pocket': ['seashell', 'strange berry', 'lint']}\n",
            "After adding 50 to the number stored under the 'gold' key:\n",
            "--------------------------------------------------------\n",
            "{'gold': 550, 'pouch': ['flint', 'twine', 'gemstone'], 'backpack': ['xylophone', 'dagger', 'bedroll', 'bread', 'loaf'], 'pocket': ['seashell', 'strange berry', 'lint']}\n"
          ],
          "name": "stdout"
        }
      ]
    },
    {
      "cell_type": "markdown",
      "metadata": {
        "id": "C4E2yxEOPC-A"
      },
      "source": [
        "**8. Write a Python script to concatenate three dictionaries to create\r\n",
        "a new one. Make dictionaries yourself**"
      ]
    },
    {
      "cell_type": "code",
      "metadata": {
        "id": "wePgJofvPGaS",
        "colab": {
          "base_uri": "https://localhost:8080/"
        },
        "outputId": "42b978af-40d3-41a7-ae34-7858417878a8"
      },
      "source": [
        "d1={'a1':10, 'b1':20, 'c1':30}\r\n",
        "d2={'a2':100, 'b2':200, 'c2':300}\r\n",
        "d3={'a3':1000, 'b3':2000, 'c3':3000}\r\n",
        "d4={ }\r\n",
        "\r\n",
        "for d in (d1,d2,d3):\r\n",
        "  d4.update(d)\r\n",
        "\r\n",
        "print(\"d1: \",d1)\r\n",
        "print(\"d2: \",d2)\r\n",
        "print(\"d3: \",d3)\r\n",
        "print(\"Concatinating all 3 dictionaries to create a new one: \")\r\n",
        "print(\"d4: \",d4)"
      ],
      "execution_count": 34,
      "outputs": [
        {
          "output_type": "stream",
          "text": [
            "d1:  {'a1': 10, 'b1': 20, 'c1': 30}\n",
            "d2:  {'a2': 100, 'b2': 200, 'c2': 300}\n",
            "d3:  {'a3': 1000, 'b3': 2000, 'c3': 3000}\n",
            "Concatinating all 3 dictionaries to create a new one: \n",
            "d4:  {'a1': 10, 'b1': 20, 'c1': 30, 'a2': 100, 'b2': 200, 'c2': 300, 'a3': 1000, 'b3': 2000, 'c3': 3000}\n"
          ],
          "name": "stdout"
        }
      ]
    },
    {
      "cell_type": "markdown",
      "metadata": {
        "id": "oUCf8QJQPHMq"
      },
      "source": [
        "**9. Write a Python program to sum all the items in a dictionary.**"
      ]
    },
    {
      "cell_type": "code",
      "metadata": {
        "id": "tEuM4G-YPMe7",
        "colab": {
          "base_uri": "https://localhost:8080/"
        },
        "outputId": "b2db3da8-0898-47b7-d7fc-122a80fa5dec"
      },
      "source": [
        "d4:  {'a1': 10, 'b1': 20, 'c1': 30, 'a2': 100, 'b2': 200, 'c2': 300, 'a3': 1000, 'b3': 2000, 'c3': 3000}\r\n",
        "\r\n",
        "print(\"Printing all values from dictionary: \")\r\n",
        "for val in d4.values():\r\n",
        "  print(val)\r\n",
        "\r\n",
        "print(\"Sum of all items: \",sum(d4.values()))"
      ],
      "execution_count": 37,
      "outputs": [
        {
          "output_type": "stream",
          "text": [
            "Printing all values from dictionary: \n",
            "10\n",
            "20\n",
            "30\n",
            "100\n",
            "200\n",
            "300\n",
            "1000\n",
            "2000\n",
            "3000\n",
            "Sum of all items:  6660\n"
          ],
          "name": "stdout"
        }
      ]
    },
    {
      "cell_type": "markdown",
      "metadata": {
        "id": "liWsfpDZPOgb"
      },
      "source": [
        "**10. Write a Python script to check whether a given key already\r\n",
        "exists in a dictionary.**\r\n",
        "\r\n",
        "**d = {'foo': 100, 'bar': 200, 'baz': 300}**"
      ]
    },
    {
      "cell_type": "code",
      "metadata": {
        "id": "7EUDX8nePiiA",
        "colab": {
          "base_uri": "https://localhost:8080/"
        },
        "outputId": "68ce19c6-eb2c-4236-8d3f-da012af2fdcb"
      },
      "source": [
        "d = {'foo': 100, 'bar': 200, 'baz': 300}\r\n",
        "\r\n",
        "key=input(\"Enter key to check:\")\r\n",
        "if key in d.keys():\r\n",
        "  print(\"Key is present and value of the key is: \",d[key])\r\n",
        "else:\r\n",
        "  print(\"Key isn't present!\")"
      ],
      "execution_count": 39,
      "outputs": [
        {
          "output_type": "stream",
          "text": [
            "Enter key to check:bar\n",
            "Key is present and value of the key is:  200\n"
          ],
          "name": "stdout"
        }
      ]
    },
    {
      "cell_type": "markdown",
      "metadata": {
        "id": "AOy6BWTIPjsD"
      },
      "source": [
        "**11. What method call will delete the entry whose value is 200?**"
      ]
    },
    {
      "cell_type": "code",
      "metadata": {
        "id": "FkNdp0zqPnkK",
        "colab": {
          "base_uri": "https://localhost:8080/"
        },
        "outputId": "5e0a3482-19b5-4476-808d-8f54fffb9d96"
      },
      "source": [
        "d = {'foo': 100, 'bar': 200, 'baz': 300}\r\n",
        "\r\n",
        "print(\"Deleting the entry whose value is 200\")\r\n",
        "del d['bar']\r\n",
        "print(d)"
      ],
      "execution_count": 41,
      "outputs": [
        {
          "output_type": "stream",
          "text": [
            "Deleting the entry whose value is 200\n",
            "{'foo': 100, 'baz': 300}\n"
          ],
          "name": "stdout"
        }
      ]
    },
    {
      "cell_type": "markdown",
      "metadata": {
        "id": "-UBApMloPwBX"
      },
      "source": [
        "**12. Write a Python program to check multiple keys exists in a\r\n",
        "dictionary.**"
      ]
    },
    {
      "cell_type": "code",
      "metadata": {
        "id": "lhxdeTF-PzpD",
        "colab": {
          "base_uri": "https://localhost:8080/"
        },
        "outputId": "d5f93ed9-3686-47f2-ea0b-128436c2294c"
      },
      "source": [
        "d = {'foo': 100, 'bar': 200, 'baz': 300}\r\n",
        "\r\n",
        "## To check if multiple key exists\r\n",
        "d1={\"foo\", \"baz\"}\r\n",
        "print(f\"Checking {d1} in {d}\")\r\n",
        "if d.keys() >= d1 :\r\n",
        "  print(\"Multiple keys exist\")\r\n",
        "else:\r\n",
        "  print(\"Multiple keys does not exist\")\r\n",
        "\r\n",
        "print(\"-------------------\")\r\n",
        "## To check if multiple key exists\r\n",
        "d2={\"foo\", \"b\"}\r\n",
        "print(f\"Checking {d2} in {d}\")\r\n",
        "if d.keys() >= d2 :\r\n",
        "  print(\"Multiple keys exist\")\r\n",
        "else:\r\n",
        "  print(\"Multiple keys does not exist\")"
      ],
      "execution_count": 52,
      "outputs": [
        {
          "output_type": "stream",
          "text": [
            "Checking {'baz', 'foo'} in {'foo': 100, 'bar': 200, 'baz': 300}\n",
            "Multiple keys exist\n",
            "-------------------\n",
            "Checking {'b', 'foo'} in {'foo': 100, 'bar': 200, 'baz': 300}\n",
            "Multiple keys does not exist\n"
          ],
          "name": "stdout"
        }
      ]
    }
  ]
}