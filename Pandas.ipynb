{
  "nbformat": 4,
  "nbformat_minor": 0,
  "metadata": {
    "colab": {
      "name": "Pandas.ipynb",
      "provenance": []
    },
    "kernelspec": {
      "name": "python3",
      "display_name": "Python 3"
    }
  },
  "cells": [
    {
      "cell_type": "markdown",
      "metadata": {
        "id": "Ta9xBQGci_In"
      },
      "source": [
        "**1. Define and create a Dataframe using Pandas.**"
      ]
    },
    {
      "cell_type": "code",
      "metadata": {
        "colab": {
          "base_uri": "https://localhost:8080/"
        },
        "id": "c8-qfTCl7QcJ",
        "outputId": "f615d00b-aa55-4485-9add-0c584aa1f949"
      },
      "source": [
        "## DataFrame is a 2-dimensional labeled data structure with columns of potentially different types.\r\n",
        "\r\n",
        "import pandas as pd\r\n",
        "a1 = [['abc', 10], ['efg', 20], ['hij', 30]]\r\n",
        "print(a1,\"\\n\")\r\n",
        "\r\n",
        "df = pd.DataFrame(a1, columns = ['Name', 'Rollnum'])\r\n",
        "print(df)"
      ],
      "execution_count": 1,
      "outputs": [
        {
          "output_type": "stream",
          "text": [
            "[['abc', 10], ['efg', 20], ['hij', 30]] \n",
            "\n",
            "  Name  Rollnum\n",
            "0  abc       10\n",
            "1  efg       20\n",
            "2  hij       30\n"
          ],
          "name": "stdout"
        }
      ]
    },
    {
      "cell_type": "markdown",
      "metadata": {
        "id": "YbHZXs3Bg8iP"
      },
      "source": [
        "**2. How can we calculate the standard deviation from the series.**"
      ]
    },
    {
      "cell_type": "code",
      "metadata": {
        "colab": {
          "base_uri": "https://localhost:8080/"
        },
        "id": "5nPnexJlhErE",
        "outputId": "94221222-771b-4e7e-c6e8-791e80529667"
      },
      "source": [
        "temperature = [33, 19, 15, 89, 11, -5, 9]\r\n",
        "days = ['Mon','Tue','Wed','Thu','Fri','Sat','Sun']\r\n",
        "\r\n",
        "# create series \r\n",
        "series_from_list = pd.Series(temperature, days) # (values,index)\r\n",
        "print(series_from_list)\r\n",
        "\r\n",
        "# calculating standard deviation\r\n",
        "print(\"The standard deviation is: \",series_from_list.std())"
      ],
      "execution_count": 10,
      "outputs": [
        {
          "output_type": "stream",
          "text": [
            "Mon    33\n",
            "Tue    19\n",
            "Wed    15\n",
            "Thu    89\n",
            "Fri    11\n",
            "Sat    -5\n",
            "Sun     9\n",
            "dtype: int64\n",
            "The standard deviation is:  30.674947122242617\n"
          ],
          "name": "stdout"
        }
      ]
    },
    {
      "cell_type": "markdown",
      "metadata": {
        "id": "5g7Ppvb0iPHf"
      },
      "source": [
        "**3. Create a Dataframe using List given below:**\r\n",
        "\r\n",
        "**lis=[‘Python’,’Numpy’,’Pandas’]**"
      ]
    },
    {
      "cell_type": "code",
      "metadata": {
        "colab": {
          "base_uri": "https://localhost:8080/",
          "height": 136
        },
        "id": "fu9fHDowibPz",
        "outputId": "c6fc10be-26a7-4793-91d1-fae50de6aaf2"
      },
      "source": [
        "lis=['Python','Numpy','Pandas']\r\n",
        "new = pd.DataFrame(lis)\r\n",
        "new"
      ],
      "execution_count": 13,
      "outputs": [
        {
          "output_type": "execute_result",
          "data": {
            "text/html": [
              "<div>\n",
              "<style scoped>\n",
              "    .dataframe tbody tr th:only-of-type {\n",
              "        vertical-align: middle;\n",
              "    }\n",
              "\n",
              "    .dataframe tbody tr th {\n",
              "        vertical-align: top;\n",
              "    }\n",
              "\n",
              "    .dataframe thead th {\n",
              "        text-align: right;\n",
              "    }\n",
              "</style>\n",
              "<table border=\"1\" class=\"dataframe\">\n",
              "  <thead>\n",
              "    <tr style=\"text-align: right;\">\n",
              "      <th></th>\n",
              "      <th>0</th>\n",
              "    </tr>\n",
              "  </thead>\n",
              "  <tbody>\n",
              "    <tr>\n",
              "      <th>0</th>\n",
              "      <td>Python</td>\n",
              "    </tr>\n",
              "    <tr>\n",
              "      <th>1</th>\n",
              "      <td>Numpy</td>\n",
              "    </tr>\n",
              "    <tr>\n",
              "      <th>2</th>\n",
              "      <td>Pandas</td>\n",
              "    </tr>\n",
              "  </tbody>\n",
              "</table>\n",
              "</div>"
            ],
            "text/plain": [
              "        0\n",
              "0  Python\n",
              "1   Numpy\n",
              "2  Pandas"
            ]
          },
          "metadata": {
            "tags": []
          },
          "execution_count": 13
        }
      ]
    },
    {
      "cell_type": "markdown",
      "metadata": {
        "id": "fmbEGPAAkH4h"
      },
      "source": [
        "**4. Create a Series from dictionary given below:**\r\n",
        "\r\n",
        "**info = {'x' : 0., 'y' : 1., 'z' : 2.}**"
      ]
    },
    {
      "cell_type": "code",
      "metadata": {
        "colab": {
          "base_uri": "https://localhost:8080/"
        },
        "id": "1MC1NyDNkS-2",
        "outputId": "04cf2f79-d39a-4812-89b5-1c76846126d4"
      },
      "source": [
        "info = {'x' : 0., 'y' : 1., 'z' : 2.}\r\n",
        "diction = pd.Series(info)\r\n",
        "diction"
      ],
      "execution_count": 14,
      "outputs": [
        {
          "output_type": "execute_result",
          "data": {
            "text/plain": [
              "x    0.0\n",
              "y    1.0\n",
              "z    2.0\n",
              "dtype: float64"
            ]
          },
          "metadata": {
            "tags": []
          },
          "execution_count": 14
        }
      ]
    },
    {
      "cell_type": "markdown",
      "metadata": {
        "id": "ubcjWZWkkm6D"
      },
      "source": [
        "**5. How will you create an empty Dataframe in Pandas?**"
      ]
    },
    {
      "cell_type": "code",
      "metadata": {
        "colab": {
          "base_uri": "https://localhost:8080/"
        },
        "id": "JfsTUXMYkrdl",
        "outputId": "71ace6d7-e635-4512-e01f-3aba269f7b1c"
      },
      "source": [
        "empty_df = pd.DataFrame()\r\n",
        "print(empty_df)"
      ],
      "execution_count": 25,
      "outputs": [
        {
          "output_type": "stream",
          "text": [
            "Empty DataFrame\n",
            "Columns: []\n",
            "Index: []\n"
          ],
          "name": "stdout"
        }
      ]
    },
    {
      "cell_type": "markdown",
      "metadata": {
        "id": "cEeDrPOolMTq"
      },
      "source": [
        "**6. i) Add a column to that pandas Dataframe that you created in Q1**\r\n",
        "\r\n",
        "**ii) Change index of that Dataframe.**"
      ]
    },
    {
      "cell_type": "code",
      "metadata": {
        "colab": {
          "base_uri": "https://localhost:8080/"
        },
        "id": "atOHkOXvlUAc",
        "outputId": "9e3b468b-0933-43d3-d679-e94e8b03560d"
      },
      "source": [
        "## i) Add a column to that pandas Dataframe that you created in Q1\r\n",
        "empty_df['Name'] = ['Tom', 'Jerry']\r\n",
        "print(empty_df,\"\\n\")\r\n",
        "\r\n",
        "## Change index of that Dataframe.\r\n",
        "empty_df = pd.DataFrame(columns = ['Name'], index=['a', 'b'])\r\n",
        "empty_df['Name'] = ['Tom', 'Jerry']\r\n",
        "print(\"Changing the index values\")\r\n",
        "print(empty_df)"
      ],
      "execution_count": 26,
      "outputs": [
        {
          "output_type": "stream",
          "text": [
            "    Name\n",
            "0    Tom\n",
            "1  Jerry \n",
            "\n",
            "Changing the index values\n",
            "    Name\n",
            "a    Tom\n",
            "b  Jerry\n"
          ],
          "name": "stdout"
        }
      ]
    },
    {
      "cell_type": "markdown",
      "metadata": {
        "id": "5oza3Npr1KxC"
      },
      "source": [
        "**7. Get the following from this dataframe:**\r\n",
        "\r\n",
        "**import random**\r\n",
        "\r\n",
        "**A = [ random.randint(0,100) for i in range(10) ]**\r\n",
        "\r\n",
        "**B = [ random.randint(0,100) for i in range(10) ]**\r\n",
        "\r\n",
        "**df = pd.DataFrame({ 'field_A': A, 'field_B': B })**\r\n",
        "\r\n",
        "**i) mean**\r\n",
        "\r\n",
        "**ii) median**\r\n",
        "\r\n",
        "**iii) mode**\r\n",
        "\r\n",
        "**iv) 75th percentile**\r\n",
        "\r\n",
        "**v) 90th percentile**\r\n",
        "\r\n",
        "**vi) 99th percentile**"
      ]
    },
    {
      "cell_type": "code",
      "metadata": {
        "colab": {
          "base_uri": "https://localhost:8080/"
        },
        "id": "P33iLRJt1qi1",
        "outputId": "a1f74cf3-60f7-49f4-9946-987c08eab26c"
      },
      "source": [
        "import random\r\n",
        "\r\n",
        "A = [ random.randint(0,100) for i in range(10) ]\r\n",
        "B = [ random.randint(0,100) for i in range(10) ]\r\n",
        "\r\n",
        "df = pd.DataFrame({'field_A':A, 'field_B':B})\r\n",
        "print(df)\r\n",
        "\r\n",
        "## i) Mean\r\n",
        "print(\"The Mean value:\\n\",df.mean())\r\n",
        "print(\"\\n\")\r\n",
        "\r\n",
        "## ii) Median\r\n",
        "print(\"The Median value:\\n\",df.median())\r\n",
        "print(\"\\n\")\r\n",
        "\r\n",
        "##iii) Mode\r\n",
        "print(\"The Mode value:\\n\",df.mode())\r\n",
        "print(\"\\n\")\r\n",
        "\r\n",
        "# You can call `quantile(i)` to get the i'th quantile,\r\n",
        "# where `i` should be a fractional number.\r\n",
        "## iv) 75th percentile\r\n",
        "print(\"The 75th percentile:\")\r\n",
        "print(df.quantile(0.75))\r\n",
        "\r\n",
        "print(\"\\n\")\r\n",
        "## v) 90th percentile\r\n",
        "print(\"The 90th percentile:\")\r\n",
        "print(df.quantile(0.90))\r\n",
        "\r\n",
        "print(\"\\n\")\r\n",
        "## vi)99th percentile\r\n",
        "print(\"The 99th percentile:\")\r\n",
        "print(df.quantile(0.99))"
      ],
      "execution_count": 18,
      "outputs": [
        {
          "output_type": "stream",
          "text": [
            "   field_A  field_B\n",
            "0       69        8\n",
            "1       23       96\n",
            "2       25        8\n",
            "3       10       97\n",
            "4       63        9\n",
            "5       92       65\n",
            "6       20       10\n",
            "7        7       13\n",
            "8       40       82\n",
            "9       83       10\n",
            "The Mean value:\n",
            " field_A    43.2\n",
            "field_B    39.8\n",
            "dtype: float64\n",
            "\n",
            "\n",
            "The Median value:\n",
            " field_A    32.5\n",
            "field_B    11.5\n",
            "dtype: float64\n",
            "\n",
            "\n",
            "The Mode value:\n",
            "    field_A  field_B\n",
            "0        7      8.0\n",
            "1       10     10.0\n",
            "2       20      NaN\n",
            "3       23      NaN\n",
            "4       25      NaN\n",
            "5       40      NaN\n",
            "6       63      NaN\n",
            "7       69      NaN\n",
            "8       83      NaN\n",
            "9       92      NaN\n",
            "\n",
            "\n",
            "The 75th percentile:\n",
            "field_A    67.50\n",
            "field_B    77.75\n",
            "Name: 0.75, dtype: float64\n",
            "\n",
            "\n",
            "The 90th percentile:\n",
            "field_A    83.9\n",
            "field_B    96.1\n",
            "Name: 0.9, dtype: float64\n",
            "\n",
            "\n",
            "The 99th percentile:\n",
            "field_A    91.19\n",
            "field_B    96.91\n",
            "Name: 0.99, dtype: float64\n"
          ],
          "name": "stdout"
        }
      ]
    },
    {
      "cell_type": "markdown",
      "metadata": {
        "id": "_lbdUHdYiLUb"
      },
      "source": [
        "**8. How do you count how many unique rows a DataFrame has (i.e.\r\n",
        "ignore all rows that are duplicates)?**"
      ]
    },
    {
      "cell_type": "code",
      "metadata": {
        "colab": {
          "base_uri": "https://localhost:8080/"
        },
        "id": "meSdBGXAibht",
        "outputId": "89ee27d6-6e52-477c-bda4-7a8d3d70d138"
      },
      "source": [
        "df = pd.DataFrame({  \r\n",
        "    'Name' : ['Priya', 'Ria', 'Nivi',  \r\n",
        "            'Jenny', 'Kiara', 'Lovely', \r\n",
        "            'Suma', 'Disha'],\r\n",
        "\r\n",
        "  'height' : [165, 165, 164,  \r\n",
        "              158, 167, 160, \r\n",
        "              158, 165], \r\n",
        "    \r\n",
        "  'weight' : [63.5, 64, 63.5, \r\n",
        "              54, 63.5, 62, \r\n",
        "              64, 64], \r\n",
        "    \r\n",
        "  'age' : [20, 22, 22,  \r\n",
        "           21, 23, 22, \r\n",
        "           20, 21]}\r\n",
        "    ) \r\n",
        "print(df,\"\\n\")\r\n",
        "\r\n",
        "uni = df.nunique(axis=0)  #row wise\r\n",
        "print(\"The count of unique rows of the dataframe:\")\r\n",
        "print(uni)"
      ],
      "execution_count": 25,
      "outputs": [
        {
          "output_type": "stream",
          "text": [
            "     Name  height  weight  age\n",
            "0   Priya     165    63.5   20\n",
            "1     Ria     165    64.0   22\n",
            "2    Nivi     164    63.5   22\n",
            "3   Jenny     158    54.0   21\n",
            "4   Kiara     167    63.5   23\n",
            "5  Lovely     160    62.0   22\n",
            "6    Suma     158    64.0   20\n",
            "7   Disha     165    64.0   21 \n",
            "\n",
            "The count of unique rows of the dataframe:\n",
            "Name      8\n",
            "height    5\n",
            "weight    4\n",
            "age       4\n",
            "dtype: int64\n"
          ],
          "name": "stdout"
        }
      ]
    },
    {
      "cell_type": "markdown",
      "metadata": {
        "id": "F33HMIPXoR59"
      },
      "source": [
        "**9. How to keep only top 2 most frequent values as it is and replace\r\n",
        "everything else as ‘Other’?**\r\n",
        "\r\n",
        "**Take the following as input.**\r\n",
        "\r\n",
        "**np.random.RandomState(100)**\r\n",
        "\r\n",
        "**ser = pd.Series(np.random.randint(1, 5, [12]))**"
      ]
    },
    {
      "cell_type": "code",
      "metadata": {
        "colab": {
          "base_uri": "https://localhost:8080/"
        },
        "id": "RqTUIssZqTJP",
        "outputId": "542ecb99-e895-4b9f-acce-5e99009263ff"
      },
      "source": [
        "import numpy as np\r\n",
        "\r\n",
        "np.random.RandomState(100)\r\n",
        "ser = pd.Series(np.random.randint(1, 5, [12]))\r\n",
        "print(\"The given series:\")\r\n",
        "print(ser)\r\n",
        "print(\"\\n\")\r\n",
        "\r\n",
        "print(\"The top 2 most frequent values:\")\r\n",
        "print(ser.value_counts())\r\n",
        "print(\"\\n\")\r\n",
        "\r\n",
        "result = ser[~ser.isin(ser.value_counts().index[:1])] = 'Other'\r\n",
        "print(ser)"
      ],
      "execution_count": 3,
      "outputs": [
        {
          "output_type": "stream",
          "text": [
            "The given series:\n",
            "0     3\n",
            "1     3\n",
            "2     4\n",
            "3     2\n",
            "4     3\n",
            "5     1\n",
            "6     2\n",
            "7     3\n",
            "8     3\n",
            "9     1\n",
            "10    3\n",
            "11    3\n",
            "dtype: int64\n",
            "\n",
            "\n",
            "The top 2 most frequent values:\n",
            "3    7\n",
            "2    2\n",
            "1    2\n",
            "4    1\n",
            "dtype: int64\n",
            "\n",
            "\n",
            "0         3\n",
            "1         3\n",
            "2     Other\n",
            "3     Other\n",
            "4         3\n",
            "5     Other\n",
            "6     Other\n",
            "7         3\n",
            "8         3\n",
            "9     Other\n",
            "10        3\n",
            "11        3\n",
            "dtype: object\n"
          ],
          "name": "stdout"
        }
      ]
    },
    {
      "cell_type": "markdown",
      "metadata": {
        "id": "dvRd-RBV8PW2"
      },
      "source": [
        "**10. A DataFrame has a column of groups 'grps' and and column of\r\n",
        "integer values 'vals':**\r\n",
        "\r\n",
        "**df = pd.DataFrame({'grps':\r\n",
        "list('aaabbcaabcccbbc'),\r\n",
        "'vals': [12, 345, 3, 1, 45, 14 , 4, 52, 54, 23, 235,\r\n",
        "21, 57, 3, 87]})**\r\n",
        "\r\n",
        "**For each group, find the sum of the three greatest values. You\r\n",
        "should end up with the answer as follows:**\r\n",
        "\r\n",
        "**grps**\r\n",
        "\r\n",
        "**a 409**\r\n",
        "\r\n",
        "**b 156**\r\n",
        "\r\n",
        "**c 345**"
      ]
    },
    {
      "cell_type": "code",
      "metadata": {
        "colab": {
          "base_uri": "https://localhost:8080/"
        },
        "id": "njZUc82A82NU",
        "outputId": "a27ece2d-b6c5-4bf7-a632-40cd4be428f7"
      },
      "source": [
        "df = pd.DataFrame({'grps': list('aaabbcaabcccbbc'), \r\n",
        "                   'vals': [12,345,3,1,45,14,4,52,54,23,235,21,57,3,87]})\r\n",
        "\r\n",
        "df.groupby('grps').apply(lambda x: x.vals.nlargest(3).sum())"
      ],
      "execution_count": 5,
      "outputs": [
        {
          "output_type": "execute_result",
          "data": {
            "text/plain": [
              "grps\n",
              "a    409\n",
              "b    156\n",
              "c    345\n",
              "dtype: int64"
            ]
          },
          "metadata": {
            "tags": []
          },
          "execution_count": 5
        }
      ]
    },
    {
      "cell_type": "markdown",
      "metadata": {
        "id": "7Zw3pkY0BucE"
      },
      "source": [
        "**Create a dataframe for the following to answer the next few questions**\r\n",
        "\r\n",
        "**data = {'animal': ['cat', 'cat', 'snake', 'dog', 'dog', 'cat',\r\n",
        "'snake', 'cat', 'dog', 'dog'],**\r\n",
        "\r\n",
        "**'age': [2.5, 3, 0.5, np.nan, 5, 2, 4.5, np.nan, 7, 3],**\r\n",
        "\r\n",
        "**'visits': [1, 3, 2, 3, 2, 3, 1, 1, 2, 1],**\r\n",
        "\r\n",
        "**'priority': ['yes', 'yes', 'no', 'yes', 'no', 'no', 'no', 'yes', 'no',\r\n",
        "'no']}**\r\n",
        "\r\n",
        "**labels = ['a', 'b', 'c', 'd', 'e', 'f', 'g', 'h', 'i', 'j']**"
      ]
    },
    {
      "cell_type": "markdown",
      "metadata": {
        "id": "kT5WsBH_4Ftk"
      },
      "source": [
        "**11. Display a summary of the basic information about this\r\n",
        "DataFrame and its data**"
      ]
    },
    {
      "cell_type": "code",
      "metadata": {
        "colab": {
          "base_uri": "https://localhost:8080/"
        },
        "id": "JEtHTxPu4Wpo",
        "outputId": "3fc388ff-dc72-4c53-c0c3-588535908adb"
      },
      "source": [
        "import numpy as np\r\n",
        "\r\n",
        "data = {'animal': ['cat', 'cat', 'snake', 'dog', 'dog', 'cat', 'snake', 'cat', 'dog', 'dog'],\r\n",
        "        'age': [2.5, 3, 0.5, np.nan, 5, 2, 4.5, np.nan, 7, 3],\r\n",
        "        'visits': [1, 3, 2, 3, 2, 3, 1, 1, 2, 1],\r\n",
        "        'priority': ['yes', 'yes', 'no', 'yes', 'no', 'no', 'no', 'yes', 'no', 'no']}\r\n",
        "labels = ['a', 'b', 'c', 'd', 'e', 'f', 'g', 'h', 'i', 'j']\r\n",
        "\r\n",
        "df = pd.DataFrame(data, index = labels)\r\n",
        "print(df)\r\n",
        "\r\n",
        "print(\"Displaying the summary of the basic information about this DataFrame and its data:\")\r\n",
        "print(df.info())"
      ],
      "execution_count": 28,
      "outputs": [
        {
          "output_type": "stream",
          "text": [
            "  animal  age  visits priority\n",
            "a    cat  2.5       1      yes\n",
            "b    cat  3.0       3      yes\n",
            "c  snake  0.5       2       no\n",
            "d    dog  NaN       3      yes\n",
            "e    dog  5.0       2       no\n",
            "f    cat  2.0       3       no\n",
            "g  snake  4.5       1       no\n",
            "h    cat  NaN       1      yes\n",
            "i    dog  7.0       2       no\n",
            "j    dog  3.0       1       no\n",
            "Displaying the summary of the basic information about this DataFrame and its data:\n",
            "<class 'pandas.core.frame.DataFrame'>\n",
            "Index: 10 entries, a to j\n",
            "Data columns (total 4 columns):\n",
            " #   Column    Non-Null Count  Dtype  \n",
            "---  ------    --------------  -----  \n",
            " 0   animal    10 non-null     object \n",
            " 1   age       8 non-null      float64\n",
            " 2   visits    10 non-null     int64  \n",
            " 3   priority  10 non-null     object \n",
            "dtypes: float64(1), int64(1), object(2)\n",
            "memory usage: 400.0+ bytes\n",
            "None\n"
          ],
          "name": "stdout"
        }
      ]
    },
    {
      "cell_type": "markdown",
      "metadata": {
        "id": "w3PGORVj5yaN"
      },
      "source": [
        "**12. Select the rows where the age is between 2 and 4 (inclusive).**"
      ]
    },
    {
      "cell_type": "code",
      "metadata": {
        "colab": {
          "base_uri": "https://localhost:8080/"
        },
        "id": "nzFoalRv52wT",
        "outputId": "3f0dc28e-7e10-4ec4-aaae-05d8386bf40a"
      },
      "source": [
        "print(\"Selecting the rows where the age is between 2 and 4(inclusive):\")\r\n",
        "print(df[df['age'].between(2, 4)])"
      ],
      "execution_count": 29,
      "outputs": [
        {
          "output_type": "stream",
          "text": [
            "Selecting the rows where the age is between 2 and 4(inclusive):\n",
            "  animal  age  visits priority\n",
            "a    cat  2.5       1      yes\n",
            "b    cat  3.0       3      yes\n",
            "f    cat  2.0       3       no\n",
            "j    dog  3.0       1       no\n"
          ],
          "name": "stdout"
        }
      ]
    },
    {
      "cell_type": "markdown",
      "metadata": {
        "id": "9bLmadYr6zTE"
      },
      "source": [
        "**13. Select the data in rows [3, 4, 8] and in columns ['animal', 'age'].**"
      ]
    },
    {
      "cell_type": "code",
      "metadata": {
        "colab": {
          "base_uri": "https://localhost:8080/"
        },
        "id": "J36yIC7865G3",
        "outputId": "b9bfc868-56da-4895-9053-478f27282ee9"
      },
      "source": [
        "print(\"Selecting the data from specific rows and columns:\")\r\n",
        "print(df.iloc[[3,4,8]])\r\n",
        "print(\"\\nTo select the columns 'animal' and 'age':\")\r\n",
        "print(df[['animal','age']])"
      ],
      "execution_count": 30,
      "outputs": [
        {
          "output_type": "stream",
          "text": [
            "Selecting the data from specific rows and columns:\n",
            "  animal  age  visits priority\n",
            "d    dog  NaN       3      yes\n",
            "e    dog  5.0       2       no\n",
            "i    dog  7.0       2       no\n",
            "\n",
            "To select the columns 'animal' and 'age':\n",
            "  animal  age\n",
            "a    cat  2.5\n",
            "b    cat  3.0\n",
            "c  snake  0.5\n",
            "d    dog  NaN\n",
            "e    dog  5.0\n",
            "f    cat  2.0\n",
            "g  snake  4.5\n",
            "h    cat  NaN\n",
            "i    dog  7.0\n",
            "j    dog  3.0\n"
          ],
          "name": "stdout"
        }
      ]
    },
    {
      "cell_type": "markdown",
      "metadata": {
        "id": "Btks12gQ8-PK"
      },
      "source": [
        "**14. Select the rows where the age is missing, i.e. it is NaN.**"
      ]
    },
    {
      "cell_type": "code",
      "metadata": {
        "colab": {
          "base_uri": "https://localhost:8080/"
        },
        "id": "i1PqA0tg9DjM",
        "outputId": "cbeac39f-38f6-415f-f353-bc543dc3a79c"
      },
      "source": [
        "print(\"Rows where age is missing:\")\r\n",
        "print(df[df['age'].isnull()])"
      ],
      "execution_count": 31,
      "outputs": [
        {
          "output_type": "stream",
          "text": [
            "Rows where age is missing:\n",
            "  animal  age  visits priority\n",
            "d    dog  NaN       3      yes\n",
            "h    cat  NaN       1      yes\n"
          ],
          "name": "stdout"
        }
      ]
    },
    {
      "cell_type": "markdown",
      "metadata": {
        "id": "6qEWk4SH9dRv"
      },
      "source": [
        "**15. Select the rows where the animal is a cat and the age is less than\r\n",
        "3.**"
      ]
    },
    {
      "cell_type": "code",
      "metadata": {
        "colab": {
          "base_uri": "https://localhost:8080/"
        },
        "id": "ghoWvU1p9hBU",
        "outputId": "24932bd8-a52a-4e43-a722-57172e008927"
      },
      "source": [
        "print(\"Rows where the animal is cat and age is less than 3:\")\r\n",
        "print(df[(df['animal'] <= 'cat') & (df['age'] < 3)])"
      ],
      "execution_count": 32,
      "outputs": [
        {
          "output_type": "stream",
          "text": [
            "Rows where the animal is cat and age is less than 3:\n",
            "  animal  age  visits priority\n",
            "a    cat  2.5       1      yes\n",
            "f    cat  2.0       3       no\n"
          ],
          "name": "stdout"
        }
      ]
    },
    {
      "cell_type": "markdown",
      "metadata": {
        "id": "t-Wapt89_oPd"
      },
      "source": [
        "**16. Change the age in row 'f' to 1.5.**"
      ]
    },
    {
      "cell_type": "code",
      "metadata": {
        "colab": {
          "base_uri": "https://localhost:8080/"
        },
        "id": "YnSuL58k_vqr",
        "outputId": "c6ad169f-fd37-4e39-b11f-c4512f807ac9"
      },
      "source": [
        "print(\"The original dataframe:\")\r\n",
        "print(df)\r\n",
        "print(\"\\nChanging the age in row 'f' to 1.5:\")\r\n",
        "df.loc['f', 'age'] = 1.5\r\n",
        "print(df)"
      ],
      "execution_count": 33,
      "outputs": [
        {
          "output_type": "stream",
          "text": [
            "The original dataframe:\n",
            "  animal  age  visits priority\n",
            "a    cat  2.5       1      yes\n",
            "b    cat  3.0       3      yes\n",
            "c  snake  0.5       2       no\n",
            "d    dog  NaN       3      yes\n",
            "e    dog  5.0       2       no\n",
            "f    cat  2.0       3       no\n",
            "g  snake  4.5       1       no\n",
            "h    cat  NaN       1      yes\n",
            "i    dog  7.0       2       no\n",
            "j    dog  3.0       1       no\n",
            "\n",
            "Changing the age in row 'f' to 1.5:\n",
            "  animal  age  visits priority\n",
            "a    cat  2.5       1      yes\n",
            "b    cat  3.0       3      yes\n",
            "c  snake  0.5       2       no\n",
            "d    dog  NaN       3      yes\n",
            "e    dog  5.0       2       no\n",
            "f    cat  1.5       3       no\n",
            "g  snake  4.5       1       no\n",
            "h    cat  NaN       1      yes\n",
            "i    dog  7.0       2       no\n",
            "j    dog  3.0       1       no\n"
          ],
          "name": "stdout"
        }
      ]
    },
    {
      "cell_type": "markdown",
      "metadata": {
        "id": "xuVgxPvvMaUA"
      },
      "source": [
        "**17. In the 'animal' column, change the 'snake' entries to 'python'.**"
      ]
    },
    {
      "cell_type": "code",
      "metadata": {
        "colab": {
          "base_uri": "https://localhost:8080/"
        },
        "id": "qT9umVNJMnbk",
        "outputId": "d9212987-fe4f-4a03-ab87-da5be129fdcb"
      },
      "source": [
        "print(\"The original dataframe:\")\r\n",
        "print(df)\r\n",
        "\r\n",
        "print(\"\\nChanging the entries of 'snake' to 'python':\")\r\n",
        "df['animal'] = df['animal'].replace('snake', 'python')\r\n",
        "print(df)"
      ],
      "execution_count": 34,
      "outputs": [
        {
          "output_type": "stream",
          "text": [
            "The original dataframe:\n",
            "  animal  age  visits priority\n",
            "a    cat  2.5       1      yes\n",
            "b    cat  3.0       3      yes\n",
            "c  snake  0.5       2       no\n",
            "d    dog  NaN       3      yes\n",
            "e    dog  5.0       2       no\n",
            "f    cat  1.5       3       no\n",
            "g  snake  4.5       1       no\n",
            "h    cat  NaN       1      yes\n",
            "i    dog  7.0       2       no\n",
            "j    dog  3.0       1       no\n",
            "\n",
            "Changing the entries of 'snake' to 'python':\n",
            "   animal  age  visits priority\n",
            "a     cat  2.5       1      yes\n",
            "b     cat  3.0       3      yes\n",
            "c  python  0.5       2       no\n",
            "d     dog  NaN       3      yes\n",
            "e     dog  5.0       2       no\n",
            "f     cat  1.5       3       no\n",
            "g  python  4.5       1       no\n",
            "h     cat  NaN       1      yes\n",
            "i     dog  7.0       2       no\n",
            "j     dog  3.0       1       no\n"
          ],
          "name": "stdout"
        }
      ]
    },
    {
      "cell_type": "markdown",
      "metadata": {
        "id": "ofy24JWORTFZ"
      },
      "source": [
        "**18. Count the number of each type of animal in df.**"
      ]
    },
    {
      "cell_type": "code",
      "metadata": {
        "colab": {
          "base_uri": "https://localhost:8080/"
        },
        "id": "bL-aYL4KRae3",
        "outputId": "ccfec13e-973c-49a8-868e-c04de7d03bb9"
      },
      "source": [
        "print(df['animal'].value_counts())"
      ],
      "execution_count": 36,
      "outputs": [
        {
          "output_type": "stream",
          "text": [
            "dog       4\n",
            "cat       4\n",
            "python    2\n",
            "Name: animal, dtype: int64\n"
          ],
          "name": "stdout"
        }
      ]
    },
    {
      "cell_type": "markdown",
      "metadata": {
        "id": "LtGljBpeUM2H"
      },
      "source": [
        "**19. The 'priority' column contains the values 'yes' and 'no'. Replace\r\n",
        "this column with a column of boolean values: 'yes' should\r\n",
        "be True and 'no' should be False.**"
      ]
    },
    {
      "cell_type": "code",
      "metadata": {
        "colab": {
          "base_uri": "https://localhost:8080/"
        },
        "id": "AiPiLacOUQfk",
        "outputId": "899df00d-9d33-4f39-bb97-c37a18ef7b9b"
      },
      "source": [
        "print(\"The original dataframe:\")\r\n",
        "print(df)\r\n",
        "\r\n",
        "print(\"\\nReplacing the 'priority' column containing the values 'yes' and 'no' with 'True' and 'False':\")\r\n",
        "df['priority'] = df['priority'].map({'yes': True, 'no': False})\r\n",
        "print(df)"
      ],
      "execution_count": 37,
      "outputs": [
        {
          "output_type": "stream",
          "text": [
            "The original dataframe:\n",
            "   animal  age  visits priority\n",
            "a     cat  2.5       1      yes\n",
            "b     cat  3.0       3      yes\n",
            "c  python  0.5       2       no\n",
            "d     dog  NaN       3      yes\n",
            "e     dog  5.0       2       no\n",
            "f     cat  1.5       3       no\n",
            "g  python  4.5       1       no\n",
            "h     cat  NaN       1      yes\n",
            "i     dog  7.0       2       no\n",
            "j     dog  3.0       1       no\n",
            "\n",
            "Replacing the 'priority' column containing the values 'yes' and 'no' with 'True' and 'False':\n",
            "   animal  age  visits  priority\n",
            "a     cat  2.5       1      True\n",
            "b     cat  3.0       3      True\n",
            "c  python  0.5       2     False\n",
            "d     dog  NaN       3      True\n",
            "e     dog  5.0       2     False\n",
            "f     cat  1.5       3     False\n",
            "g  python  4.5       1     False\n",
            "h     cat  NaN       1      True\n",
            "i     dog  7.0       2     False\n",
            "j     dog  3.0       1     False\n"
          ],
          "name": "stdout"
        }
      ]
    },
    {
      "cell_type": "markdown",
      "metadata": {
        "id": "7kyvvSBYVxIE"
      },
      "source": [
        "**20. For each animal type and each number of visits, find the mean\r\n",
        "age. In other words, each row is an animal, each column is a\r\n",
        "number of visits and the values are the mean ages (hint: use a\r\n",
        "pivot table).**"
      ]
    },
    {
      "cell_type": "code",
      "metadata": {
        "colab": {
          "base_uri": "https://localhost:8080/",
          "height": 166
        },
        "id": "x-jWeuHcV6rb",
        "outputId": "1934c80d-9e53-44c5-e404-46b7ad7a1900"
      },
      "source": [
        "df.pivot_table(index='animal', columns='visits', values='age', aggfunc='mean')"
      ],
      "execution_count": 38,
      "outputs": [
        {
          "output_type": "execute_result",
          "data": {
            "text/html": [
              "<div>\n",
              "<style scoped>\n",
              "    .dataframe tbody tr th:only-of-type {\n",
              "        vertical-align: middle;\n",
              "    }\n",
              "\n",
              "    .dataframe tbody tr th {\n",
              "        vertical-align: top;\n",
              "    }\n",
              "\n",
              "    .dataframe thead th {\n",
              "        text-align: right;\n",
              "    }\n",
              "</style>\n",
              "<table border=\"1\" class=\"dataframe\">\n",
              "  <thead>\n",
              "    <tr style=\"text-align: right;\">\n",
              "      <th>visits</th>\n",
              "      <th>1</th>\n",
              "      <th>2</th>\n",
              "      <th>3</th>\n",
              "    </tr>\n",
              "    <tr>\n",
              "      <th>animal</th>\n",
              "      <th></th>\n",
              "      <th></th>\n",
              "      <th></th>\n",
              "    </tr>\n",
              "  </thead>\n",
              "  <tbody>\n",
              "    <tr>\n",
              "      <th>cat</th>\n",
              "      <td>2.5</td>\n",
              "      <td>NaN</td>\n",
              "      <td>2.25</td>\n",
              "    </tr>\n",
              "    <tr>\n",
              "      <th>dog</th>\n",
              "      <td>3.0</td>\n",
              "      <td>6.0</td>\n",
              "      <td>NaN</td>\n",
              "    </tr>\n",
              "    <tr>\n",
              "      <th>python</th>\n",
              "      <td>4.5</td>\n",
              "      <td>0.5</td>\n",
              "      <td>NaN</td>\n",
              "    </tr>\n",
              "  </tbody>\n",
              "</table>\n",
              "</div>"
            ],
            "text/plain": [
              "visits    1    2     3\n",
              "animal                \n",
              "cat     2.5  NaN  2.25\n",
              "dog     3.0  6.0   NaN\n",
              "python  4.5  0.5   NaN"
            ]
          },
          "metadata": {
            "tags": []
          },
          "execution_count": 38
        }
      ]
    }
  ]
}