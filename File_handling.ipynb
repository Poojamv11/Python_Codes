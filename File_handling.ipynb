{
  "nbformat": 4,
  "nbformat_minor": 0,
  "metadata": {
    "colab": {
      "name": "File handling.ipynb",
      "provenance": []
    },
    "kernelspec": {
      "name": "python3",
      "display_name": "Python 3"
    }
  },
  "cells": [
    {
      "cell_type": "markdown",
      "metadata": {
        "id": "nJVinOHUQP9g"
      },
      "source": [
        "**1. Write a python code to open a file for appending data.**"
      ]
    },
    {
      "cell_type": "code",
      "metadata": {
        "colab": {
          "base_uri": "https://localhost:8080/"
        },
        "id": "_ZRVxplPQvi0",
        "outputId": "5c531e04-561e-48df-8738-8d6fc5baa15d"
      },
      "source": [
        "fopen = open(\"newfile.txt\",\"w\")\r\n",
        "fopen.write(\"Created a new file \\n\")\r\n",
        "fopen.close()\r\n",
        "\r\n",
        "## Reading and printing data from the file\r\n",
        "fopen = open(\"newfile.txt\",\"r+\")\r\n",
        "fshow = fopen.read()\r\n",
        "print(\"The existing statement in the file is: \",fshow)\r\n",
        "fopen.close()\r\n",
        "\r\n",
        "## Appending new data to the file\r\n",
        "fopen = open(\"newfile.txt\",\"a+\")\r\n",
        "fopen.write(\"Appending new data \\n\")\r\n",
        "fopen.close()\r\n",
        "\r\n",
        "## The file contents\r\n",
        "fopen = open(\"newfile.txt\",\"r+\")\r\n",
        "ffinal = fopen.read()\r\n",
        "print(\"The file after appending data: \\n\",ffinal)\r\n",
        "fopen.close()"
      ],
      "execution_count": 27,
      "outputs": [
        {
          "output_type": "stream",
          "text": [
            "The existing statement in the file is:  Created a new file \n",
            "\n",
            "The file after appending data: \n",
            " Created a new file \n",
            "Appending new data \n",
            "\n"
          ],
          "name": "stdout"
        }
      ]
    },
    {
      "cell_type": "markdown",
      "metadata": {
        "id": "jcv46zFRVNk5"
      },
      "source": [
        "**2. How would you read two characters from a file .**"
      ]
    },
    {
      "cell_type": "code",
      "metadata": {
        "colab": {
          "base_uri": "https://localhost:8080/"
        },
        "id": "XiUH7nZxVS4y",
        "outputId": "aa342891-8017-4a84-ab2d-26c39e9e0c15"
      },
      "source": [
        "fopen = open(\"newfile.txt\",\"r+\")\r\n",
        "str = fopen.read(2)\r\n",
        "print(\"Reading only two characters from the file: \",str)\r\n",
        "fopen.close()"
      ],
      "execution_count": 28,
      "outputs": [
        {
          "output_type": "stream",
          "text": [
            "Reading only two characters from the file:  Cr\n"
          ],
          "name": "stdout"
        }
      ]
    },
    {
      "cell_type": "markdown",
      "metadata": {
        "id": "iD93qVqLZewd"
      },
      "source": [
        "**3. Which command is used to read the entire content of\r\n",
        "the file as a string.**"
      ]
    },
    {
      "cell_type": "code",
      "metadata": {
        "colab": {
          "base_uri": "https://localhost:8080/"
        },
        "id": "1NeWEEeVZk_g",
        "outputId": "1e3f6918-1d5c-48ce-880d-ebeebfec8d99"
      },
      "source": [
        "fopen = open(\"newfile.txt\",\"r+\")\r\n",
        "str = fopen.read(100)\r\n",
        "print(\"Reading the entire content of the file: \\n\",str)\r\n",
        "fopen.close()"
      ],
      "execution_count": 32,
      "outputs": [
        {
          "output_type": "stream",
          "text": [
            "Reading the entire content of the file: \n",
            " Created a new file \n",
            "Appending new data \n",
            "\n"
          ],
          "name": "stdout"
        }
      ]
    },
    {
      "cell_type": "markdown",
      "metadata": {
        "id": "dYRC7w6KZ7th"
      },
      "source": [
        "**4. How to read the next line of the file.**"
      ]
    },
    {
      "cell_type": "code",
      "metadata": {
        "colab": {
          "base_uri": "https://localhost:8080/"
        },
        "id": "CKWZseaJaXDn",
        "outputId": "b0aeaaf5-9693-44b6-b57d-1e89bf0c6bb4"
      },
      "source": [
        "fout = open(\"newfile.txt\",\"r+\")\r\n",
        "line_1 = fout.readline()\r\n",
        "print(\"Line1: \",line_1)\r\n",
        "\r\n",
        "line_2 = fout.readline()\r\n",
        "print(\"Line2: \",line_2)\r\n",
        "\r\n",
        "line_3 = fout.readline()\r\n",
        "print(\"Line3: \",line_3) ## No third line present\r\n",
        "\r\n",
        "fopen.close()"
      ],
      "execution_count": 36,
      "outputs": [
        {
          "output_type": "stream",
          "text": [
            "Line1:  Created a new file \n",
            "\n",
            "Line2:  Appending new data \n",
            "\n",
            "Line3:  \n"
          ],
          "name": "stdout"
        }
      ]
    },
    {
      "cell_type": "markdown",
      "metadata": {
        "id": "umB6BD84eUDc"
      },
      "source": [
        "**5. Which command is used to open a file for reading in\r\n",
        "binary format only?**"
      ]
    },
    {
      "cell_type": "code",
      "metadata": {
        "colab": {
          "base_uri": "https://localhost:8080/"
        },
        "id": "Y-fKI18SeVvU",
        "outputId": "15ecdba7-2f8f-4b3c-e00f-ab18e35bf420"
      },
      "source": [
        "fopen = open(\"newfile.txt\",\"wb\")\r\n",
        "\r\n",
        "print(\"Opening the file in binary mode : \", fopen.mode)\r\n",
        "print(\"Status of the file : \", fopen.closed)  \r\n",
        "fopen.close()"
      ],
      "execution_count": 40,
      "outputs": [
        {
          "output_type": "stream",
          "text": [
            "Opening the file in binary mode :  wb\n",
            "Status of the file :  False\n"
          ],
          "name": "stdout"
        }
      ]
    }
  ]
}