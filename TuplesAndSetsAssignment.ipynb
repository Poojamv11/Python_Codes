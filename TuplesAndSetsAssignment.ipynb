{
  "nbformat": 4,
  "nbformat_minor": 0,
  "metadata": {
    "colab": {
      "name": "TuplesAndSetsAssignment.ipynb",
      "provenance": []
    },
    "kernelspec": {
      "name": "python3",
      "display_name": "Python 3"
    }
  },
  "cells": [
    {
      "cell_type": "markdown",
      "metadata": {
        "id": "KuFZklRp1hm7"
      },
      "source": [
        "**1. Write a Python program to add an item in a tuple.**"
      ]
    },
    {
      "cell_type": "code",
      "metadata": {
        "colab": {
          "base_uri": "https://localhost:8080/"
        },
        "id": "D6b1BUrx10Vx",
        "outputId": "605d801d-26bf-4cef-9b7e-211aea61733a"
      },
      "source": [
        "a=('all','the','best')\n",
        "print(\"Converting tuple to list to add item:\")\n",
        "l=list(a)\n",
        "print(l)\n",
        "\n",
        "print(\"Adding an item to the list:\")\n",
        "l.append('morning')\n",
        "print(l)\n",
        "\n",
        "print(\"Converting list back to tuple:\")\n",
        "b=tuple(l)\n",
        "print(b)\n"
      ],
      "execution_count": 9,
      "outputs": [
        {
          "output_type": "stream",
          "text": [
            "Converting tuple to list to add item:\n",
            "['all', 'the', 'best']\n",
            "Adding an item to the list:\n",
            "['all', 'the', 'best', 'morning']\n",
            "Converting list back to tuple:\n",
            "('all', 'the', 'best', 'morning')\n"
          ],
          "name": "stdout"
        }
      ]
    },
    {
      "cell_type": "markdown",
      "metadata": {
        "id": "cnqLVSf4_JiN"
      },
      "source": [
        "**2. Write a Python program to reverse a tuple.**"
      ]
    },
    {
      "cell_type": "code",
      "metadata": {
        "colab": {
          "base_uri": "https://localhost:8080/"
        },
        "id": "hQzPNL14_SDA",
        "outputId": "42e82d35-020b-4696-abe9-e06044a0e830"
      },
      "source": [
        "tup=('one','two',3,'four',5)\n",
        "new=reversed(tup)\n",
        "\n",
        "print(tuple(new))"
      ],
      "execution_count": 14,
      "outputs": [
        {
          "output_type": "stream",
          "text": [
            "(5, 'four', 3, 'two', 'one')\n"
          ],
          "name": "stdout"
        }
      ]
    },
    {
      "cell_type": "markdown",
      "metadata": {
        "id": "yv4bRxB3au86"
      },
      "source": [
        "**3. Swap the following two tuples**\n",
        "\n",
        "**tuple1 = (11, 22)**\n",
        "\n",
        "**tuple2 = (99, 88)**"
      ]
    },
    {
      "cell_type": "code",
      "metadata": {
        "colab": {
          "base_uri": "https://localhost:8080/"
        },
        "id": "e2HFqoH0a5jQ",
        "outputId": "fcec8249-92d5-4ec3-ce23-86e5ba245e98"
      },
      "source": [
        "tuple1 = (11, 22)\n",
        "tuple2 = (99, 88)\n",
        "\n",
        "print(\"Before Swapping\")\n",
        "print(\"Tuple1:\",tuple1)\n",
        "print(\"Tuple2:\",tuple2)\n",
        "print(\"\\n\")\n",
        "\n",
        "tuple1,tuple2=tuple2,tuple1\n",
        "\n",
        "print(\"After swapping\")\n",
        "print(\"Tuple1:\",tuple1)\n",
        "print(\"Tuple2:\",tuple2)\n"
      ],
      "execution_count": 17,
      "outputs": [
        {
          "output_type": "stream",
          "text": [
            "Before Swapping\n",
            "Tuple1: (11, 22)\n",
            "Tuple2: (99, 88)\n",
            "\n",
            "\n",
            "After swapping\n",
            "Tuple1: (99, 88)\n",
            "Tuple2: (11, 22)\n"
          ],
          "name": "stdout"
        }
      ]
    },
    {
      "cell_type": "markdown",
      "metadata": {
        "id": "ysfvZuzAn7Xy"
      },
      "source": [
        "**4. Modify the first item (22) of a list inside a following tuple to\n",
        "222**\n",
        "\n",
        "**tuple1 = (11, [22, 33], 44, 55)**"
      ]
    },
    {
      "cell_type": "code",
      "metadata": {
        "colab": {
          "base_uri": "https://localhost:8080/"
        },
        "id": "Ir1fwg6ioMbO",
        "outputId": "c74b6798-7432-426c-eed4-0b2aa3c78252"
      },
      "source": [
        "tuple1 = (11, [22, 33], 44, 55)\n",
        "\n",
        "print(\"Existing tuple:\",tuple1)\n",
        "\n",
        "y=list(tuple1)  ##converting tuple to list to update value\n",
        "print(\"The existing value is:\",y[1][0])  ## it has the value of 22 from [22, 33]\n",
        "\n",
        "y[1][0]=222  ## updating the value 22 to 222\n",
        "tuple1=tuple(y)  ## converting it back to tuple from list\n",
        "print(\"After updating the value of 22 to 222:\", tuple1)"
      ],
      "execution_count": 25,
      "outputs": [
        {
          "output_type": "stream",
          "text": [
            "Existing tuple: (11, [22, 33], 44, 55)\n",
            "The existing value is: 22\n",
            "After updating the value of 22 to 222: (11, [222, 33], 44, 55)\n"
          ],
          "name": "stdout"
        }
      ]
    },
    {
      "cell_type": "markdown",
      "metadata": {
        "id": "Wo7mV7Brq_Yg"
      },
      "source": [
        "**5. Write a Python program to unpack a tuple in several\n",
        "variables.**"
      ]
    },
    {
      "cell_type": "code",
      "metadata": {
        "colab": {
          "base_uri": "https://localhost:8080/"
        },
        "id": "XF-dAne_rEkI",
        "outputId": "4aae95f1-a2fc-4df0-9541-444c1dc76671"
      },
      "source": [
        "## In unpacking of tuple number of variables on left hand side should be equal to number of values on the right\n",
        "\n",
        "## Creating a tuple\n",
        "a1=('long', 'short', 'medium', 123)\n",
        "print(\"Tuple:\", a1)\n",
        "## packing of variables\n",
        "n1,n2,n3,n4= a1\n",
        "\n",
        "##unpacking of tuples\n",
        "print(n1)\n",
        "print(n2)\n",
        "print(n3)\n",
        "print(n4)\n"
      ],
      "execution_count": 27,
      "outputs": [
        {
          "output_type": "stream",
          "text": [
            "Tuple: ('long', 'short', 'medium', 123)\n",
            "long\n",
            "short\n",
            "medium\n",
            "123\n"
          ],
          "name": "stdout"
        }
      ]
    },
    {
      "cell_type": "markdown",
      "metadata": {
        "id": "ADM6dofstJr1"
      },
      "source": [
        "**6. Write a Python program to add member(s) in an empty\n",
        "set.**"
      ]
    },
    {
      "cell_type": "code",
      "metadata": {
        "colab": {
          "base_uri": "https://localhost:8080/"
        },
        "id": "-UnmY9R9tXBw",
        "outputId": "c3477ce7-be21-4af4-bb7c-1851789cdcb4"
      },
      "source": [
        "a_set=set()\n",
        "print(\"Creating an empty set:\",a_set)\n",
        "\n",
        "a_set.add('mango')\n",
        "print(\"Adding an item to the set:\",a_set)\n",
        "\n",
        "a_set.update(['orange','apple','cherry'])\n",
        "print(\"Adding more items to the set:\",a_set)\n"
      ],
      "execution_count": 36,
      "outputs": [
        {
          "output_type": "stream",
          "text": [
            "Creating an empty set: set()\n",
            "Adding an item to the set: {'mango'}\n",
            "Adding more items to the set: {'orange', 'mango', 'cherry', 'apple'}\n"
          ],
          "name": "stdout"
        }
      ]
    },
    {
      "cell_type": "markdown",
      "metadata": {
        "id": "x3OEaVOKvrYL"
      },
      "source": [
        "**7. Write a Python program to create an intersection of sets.**"
      ]
    },
    {
      "cell_type": "code",
      "metadata": {
        "colab": {
          "base_uri": "https://localhost:8080/"
        },
        "id": "VHVpm27Hv09f",
        "outputId": "2304fbb9-bdb2-40ba-ed48-05fefb9eaa02"
      },
      "source": [
        "l1=[1, 1, 2, 3, 4, 4, 5, 6]\n",
        "l2=[1, 2, 6, 7, 8]\n",
        "\n",
        "print(\"Set1:\",set(l1))\n",
        "print(\"Set2:\",set(l2))\n",
        "\n",
        "print(\"The intersection of two sets:\",set(l1).intersection(l2))"
      ],
      "execution_count": 41,
      "outputs": [
        {
          "output_type": "stream",
          "text": [
            "Set1: {1, 2, 3, 4, 5, 6}\n",
            "Set2: {1, 2, 6, 7, 8}\n",
            "The intersection of two sets: {1, 2, 6}\n"
          ],
          "name": "stdout"
        }
      ]
    },
    {
      "cell_type": "markdown",
      "metadata": {
        "id": "S0EolChy44C9"
      },
      "source": [
        "**8. Write a Python program to create a symmetric difference\n",
        "in sets.**"
      ]
    },
    {
      "cell_type": "code",
      "metadata": {
        "colab": {
          "base_uri": "https://localhost:8080/"
        },
        "id": "Zf4RS1Bx5BAh",
        "outputId": "1cb57056-26e9-459e-b22b-19e05641f58b"
      },
      "source": [
        "s1={1, 1, 2, 3, 4, 4, 5, 6}\n",
        "s2={1, 2, 6, 7, 8}\n",
        "\n",
        "print(\"Set1:\",s1)\n",
        "print(\"Set2:\",s2)\n",
        "\n",
        "print(\"The symmetric difference of two sets:\",s1.symmetric_difference(s2)) "
      ],
      "execution_count": 44,
      "outputs": [
        {
          "output_type": "stream",
          "text": [
            "Set1: {1, 2, 3, 4, 5, 6}\n",
            "Set2: {1, 2, 6, 7, 8}\n",
            "The symmetric difference of two sets: {3, 4, 5, 7, 8}\n"
          ],
          "name": "stdout"
        }
      ]
    },
    {
      "cell_type": "markdown",
      "metadata": {
        "id": "SMs2oLJU6rQx"
      },
      "source": [
        "**9. Return a set of identical items from a given two Python\n",
        "set**\n",
        "\n",
        "**set1 = [10, 20, 30, 40, 50]**\n",
        "\n",
        "**set2 = [30, 40, 50, 60, 70]**"
      ]
    },
    {
      "cell_type": "code",
      "metadata": {
        "colab": {
          "base_uri": "https://localhost:8080/"
        },
        "id": "9sC-PASO64c2",
        "outputId": "6a5d3465-4f1b-4994-efd3-8a40e2ac4ead"
      },
      "source": [
        "set1 = [10, 20, 30, 40, 50]\n",
        "set2 = [30, 40, 50, 60, 70]\n",
        "\n",
        "print(\"Set1:\",set(set1))\n",
        "print(\"Set2:\",set(set2))\n",
        "\n",
        "print(\"The set of identical items from given two sets are:\",list(set(set1).intersection(set2)))\n"
      ],
      "execution_count": 48,
      "outputs": [
        {
          "output_type": "stream",
          "text": [
            "Set1: {40, 10, 50, 20, 30}\n",
            "Set2: {70, 40, 50, 60, 30}\n",
            "The set of identical items from given two sets are: [40, 50, 30]\n"
          ],
          "name": "stdout"
        }
      ]
    },
    {
      "cell_type": "markdown",
      "metadata": {
        "id": "R-_lQ9V673X7"
      },
      "source": [
        "**10. Remove 10, 20, 30 elements from a following set at\n",
        "once**\n",
        "\n",
        "**set1 = {10, 20, 30, 40, 50}**"
      ]
    },
    {
      "cell_type": "code",
      "metadata": {
        "colab": {
          "base_uri": "https://localhost:8080/"
        },
        "id": "CtZz7srz8GaP",
        "outputId": "c6ed98fe-a4a0-415b-f5cf-7abcff693c2a"
      },
      "source": [
        "set1 = {10, 20, 30, 40, 50}\n",
        "\n",
        "print(\"Set1:\",set1)\n",
        "set1.remove(10)\n",
        "set1.remove(20)\n",
        "set1.remove(30)\n",
        "print(\"Removing 10,20,30, from set:\",set1)"
      ],
      "execution_count": 61,
      "outputs": [
        {
          "output_type": "stream",
          "text": [
            "Set1: {40, 10, 50, 20, 30}\n",
            "Removing 10,20,30, from set: {40, 50}\n"
          ],
          "name": "stdout"
        }
      ]
    },
    {
      "cell_type": "markdown",
      "metadata": {
        "id": "LGk4sCyLBeaN"
      },
      "source": [
        "**11. Access value 20 from the following tuple**\n",
        "\n",
        "**example = (\"Pooja\", [10, 20, 30], (25, 50, 15))**\n"
      ]
    },
    {
      "cell_type": "code",
      "metadata": {
        "colab": {
          "base_uri": "https://localhost:8080/"
        },
        "id": "owk-MzoQB-0L",
        "outputId": "926bf2af-aaae-4e20-8003-daae86d352cb"
      },
      "source": [
        "example = (\"Pooja\", [10, 20, 30], (25, 50, 15))\n",
        "\n",
        "print(\"Tuple:\",example)\n",
        "\n",
        "## Accessing value\n",
        "e=example[1][1]\n",
        "print(\"Accessing value 20 from the above tuple:\",e)"
      ],
      "execution_count": 63,
      "outputs": [
        {
          "output_type": "stream",
          "text": [
            "Tuple: ('Pooja', [10, 20, 30], (25, 50, 15))\n",
            "Accessing value 20 from the above tuple: 20\n"
          ],
          "name": "stdout"
        }
      ]
    },
    {
      "cell_type": "markdown",
      "metadata": {
        "id": "0C1063tVCtpi"
      },
      "source": [
        "**12. Count the number of occurrences of item 50 from a tuple**\n",
        "\n",
        "**numbers = (50, 10, 60, 70, 50)**\n"
      ]
    },
    {
      "cell_type": "code",
      "metadata": {
        "colab": {
          "base_uri": "https://localhost:8080/"
        },
        "id": "aDKpUavbCyLb",
        "outputId": "cf690447-3aa1-4613-b68f-66eb7cc8eff1"
      },
      "source": [
        "numbers = (50, 10, 60, 70, 50)\n",
        "\n",
        "print(\"A tuple:\", numbers)\n",
        "print(\"The number of occurences of 50 in above tuple is:\", numbers.count(50))\n"
      ],
      "execution_count": 66,
      "outputs": [
        {
          "output_type": "stream",
          "text": [
            "A tuple: (50, 10, 60, 70, 50)\n",
            "The number of occurences of 50 in above tuple is: 2\n"
          ],
          "name": "stdout"
        }
      ]
    }
  ]
}