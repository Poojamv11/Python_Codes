{
  "nbformat": 4,
  "nbformat_minor": 0,
  "metadata": {
    "colab": {
      "name": "Functions.ipynb",
      "provenance": [],
      "collapsed_sections": []
    },
    "kernelspec": {
      "name": "python3",
      "display_name": "Python 3"
    }
  },
  "cells": [
    {
      "cell_type": "markdown",
      "metadata": {
        "id": "1wjx06Qyf9n8"
      },
      "source": [
        "**1. Write a Python function that accepts a string and\r\n",
        "calculates the number of uppercase letters and lowercase\r\n",
        "letters.**"
      ]
    },
    {
      "cell_type": "code",
      "metadata": {
        "colab": {
          "base_uri": "https://localhost:8080/"
        },
        "id": "2thCWSQ_gMIM",
        "outputId": "c4d471c3-8686-4d37-a619-a88f9e1fb11a"
      },
      "source": [
        "def letters(s):\r\n",
        "  uppercase = 0\r\n",
        "  lowercase = 0\r\n",
        "  for i in s:\r\n",
        "    if i>='A' and i<='Z':\r\n",
        "      uppercase += 1\r\n",
        "    elif i>='a' and i<='z':\r\n",
        "      lowercase += 1\r\n",
        "  print(\"The number of uppercase letters: \", str(uppercase))\r\n",
        "  print(\"The number of lowercase letters: \", str(lowercase))\r\n",
        "\r\n",
        "letters(\"Its a Bright Sunny Morning\")"
      ],
      "execution_count": 10,
      "outputs": [
        {
          "output_type": "stream",
          "text": [
            "The number of uppercase letters:  4\n",
            "The number of lowercase letters:  18\n"
          ],
          "name": "stdout"
        }
      ]
    },
    {
      "cell_type": "markdown",
      "metadata": {
        "id": "PA5U0hMmxz5I"
      },
      "source": [
        "**2. Write a Python function to create and print a list where\r\n",
        "the values are squares of numbers between 1 and 30 (both\r\n",
        "included).**"
      ]
    },
    {
      "cell_type": "code",
      "metadata": {
        "colab": {
          "base_uri": "https://localhost:8080/"
        },
        "id": "rd_PvemBx819",
        "outputId": "8cfea393-7e26-40bf-e92d-9b9488677617"
      },
      "source": [
        "def square():\r\n",
        "  l=list()\r\n",
        "  for i in range(1,31):\r\n",
        "    l.append(i**2)\r\n",
        "  print(\"The square of numbers between 1 and 30: \\n\",l)\r\n",
        "\r\n",
        "square()"
      ],
      "execution_count": 14,
      "outputs": [
        {
          "output_type": "stream",
          "text": [
            "The square of numbers between 1 and 30: \n",
            " [1, 4, 9, 16, 25, 36, 49, 64, 81, 100, 121, 144, 169, 196, 225, 256, 289, 324, 361, 400, 441, 484, 529, 576, 625, 676, 729, 784, 841, 900]\n"
          ],
          "name": "stdout"
        }
      ]
    },
    {
      "cell_type": "markdown",
      "metadata": {
        "id": "X_clvl_xHsDV"
      },
      "source": [
        "**3.Create a function that counts the number of elements\r\n",
        "within a list that are greater than 30.**"
      ]
    },
    {
      "cell_type": "code",
      "metadata": {
        "colab": {
          "base_uri": "https://localhost:8080/"
        },
        "id": "AUyyu_KeHvCh",
        "outputId": "10976a6c-c080-4708-d036-5edecdaf33fb"
      },
      "source": [
        "def count(list):\r\n",
        "  num = 0\r\n",
        "  for i in list:\r\n",
        "      if i > 30:\r\n",
        "        num +=1\r\n",
        "  return num\r\n",
        "\r\n",
        "count([10, 20, 30, 40, 50, 60, 70, 80])\r\n",
        "print(\"The List: \", list)\r\n",
        "print(\"The numbers greater than 30 are: \", num)"
      ],
      "execution_count": 20,
      "outputs": [
        {
          "output_type": "stream",
          "text": [
            "The List:  [10, 20, 30, 40, 50, 60, 70, 80]\n",
            "The numbers greater than 30 are:  5\n"
          ],
          "name": "stdout"
        }
      ]
    },
    {
      "cell_type": "markdown",
      "metadata": {
        "id": "P6cl5UF2XmlL"
      },
      "source": [
        "**4. Write a Python function that takes a list and returns a\r\n",
        "new list with unique elements of the first list.**"
      ]
    },
    {
      "cell_type": "code",
      "metadata": {
        "colab": {
          "base_uri": "https://localhost:8080/"
        },
        "id": "ijN5ZTbeXtQL",
        "outputId": "df3b3d39-c465-4782-b382-24169e897ae8"
      },
      "source": [
        "def unique_elements(list):\r\n",
        "  new = []\r\n",
        "  for i in list:\r\n",
        "    if i not in new:\r\n",
        "      new.append(i)\r\n",
        "  print(\"The unique elements are: \",new)\r\n",
        "\r\n",
        "unique_elements([1, 1, 1, 2, 3, 4, 4, 5, 5, 5, 6])"
      ],
      "execution_count": 25,
      "outputs": [
        {
          "output_type": "stream",
          "text": [
            "The unique elements are:  [1, 2, 3, 4, 5, 6]\n"
          ],
          "name": "stdout"
        }
      ]
    },
    {
      "cell_type": "markdown",
      "metadata": {
        "id": "iPwLtHpBigxE"
      },
      "source": [
        "**5. Create a function showEmployee() in such a way that it\r\n",
        "should accept employee name, and it’s salary and display\r\n",
        "both, and if the salary is missing in function call it should\r\n",
        "show it as 9000**"
      ]
    },
    {
      "cell_type": "code",
      "metadata": {
        "colab": {
          "base_uri": "https://localhost:8080/"
        },
        "id": "6rk83shGilCT",
        "outputId": "191abaf8-5184-4388-aa09-15cf30263482"
      },
      "source": [
        "def showEmployee(name, salary=9000):\r\n",
        "  print(\"Employee :\", name, \"\\tsalary :\", salary)\r\n",
        "\r\n",
        "showEmployee(\"Pooja\")\r\n",
        "showEmployee(\"Pooja\", 9000)"
      ],
      "execution_count": 6,
      "outputs": [
        {
          "output_type": "stream",
          "text": [
            "Employee : Pooja \tsalary : 9000\n",
            "Employee : Pooja \tsalary : 9000\n"
          ],
          "name": "stdout"
        }
      ]
    },
    {
      "cell_type": "markdown",
      "metadata": {
        "id": "6FSVr8xqVKVM"
      },
      "source": [
        "**6. Write a Python program to count the even, odd\r\n",
        "numbers in a given array of integers using Lambda.**"
      ]
    },
    {
      "cell_type": "code",
      "metadata": {
        "colab": {
          "base_uri": "https://localhost:8080/"
        },
        "id": "dQinOrbUWajL",
        "outputId": "ed20b943-60e2-454a-9fd5-9ddb3a760ac9"
      },
      "source": [
        "list1 = [10, 12, 55, 85, 44, 23, 69, 25, 33]\r\n",
        "print(list1)\r\n",
        "\r\n",
        "even_int = len(list(filter(lambda a: (a%2 == 0), list1)))\r\n",
        "odd_int = len(list(filter(lambda a: (a%2 != 0), list1)))\r\n",
        "\r\n",
        "print(\"The count of even numbers:\",even_int)\r\n",
        "print(\"The count of odd numbers:\",odd_int)"
      ],
      "execution_count": 14,
      "outputs": [
        {
          "output_type": "stream",
          "text": [
            "[10, 12, 55, 85, 44, 23, 69, 25, 33]\n",
            "The count of even numbers: 3\n",
            "The count of odd numbers: 6\n"
          ],
          "name": "stdout"
        }
      ]
    },
    {
      "cell_type": "markdown",
      "metadata": {
        "id": "iFMgxrgPhg0E"
      },
      "source": [
        "**7. Write a Python program to add two given lists using\r\n",
        "map and lambda**"
      ]
    },
    {
      "cell_type": "code",
      "metadata": {
        "colab": {
          "base_uri": "https://localhost:8080/"
        },
        "id": "h4M32zVDhlCb",
        "outputId": "5a20d1b3-36e5-49a9-b4f4-f79a2c3568ec"
      },
      "source": [
        "list1 = [1, 2, 3, 4, 5]\r\n",
        "list2 = [6, 7, 8, 9, 10]\r\n",
        "\r\n",
        "print(\"List1:\",list1)\r\n",
        "print(\"List2:\",list2)\r\n",
        "\r\n",
        "add_lists = map(lambda a, b: a + b, list1, list2)\r\n",
        "\r\n",
        "print(\"The result of adding the above to list:\", list(add_lists))"
      ],
      "execution_count": 16,
      "outputs": [
        {
          "output_type": "stream",
          "text": [
            "List1: [1, 2, 3, 4, 5]\n",
            "List2: [6, 7, 8, 9, 10]\n",
            "The result of adding the above to list: [7, 9, 11, 13, 15]\n"
          ],
          "name": "stdout"
        }
      ]
    },
    {
      "cell_type": "markdown",
      "metadata": {
        "id": "FHz3JhPKnpG4"
      },
      "source": [
        "**8. Write a Python program to rearrange positive and\r\n",
        "negative numbers in a given array using Lambda and filter**"
      ]
    },
    {
      "cell_type": "code",
      "metadata": {
        "colab": {
          "base_uri": "https://localhost:8080/"
        },
        "id": "POnzwirNnuew",
        "outputId": "dad77ab2-39a8-4e17-96b5-a75ea8b21a40"
      },
      "source": [
        "array = [1, -1, 2, -2, 3, -3]\r\n",
        "print(\"The original list:\",array)\r\n",
        "\r\n",
        "result = sorted(array, key = lambda i: 0 if i == 0 else -1/i)\r\n",
        "print(\"The rearranged list of positive and negative numbers:\\n\",result)"
      ],
      "execution_count": 20,
      "outputs": [
        {
          "output_type": "stream",
          "text": [
            "The original list: [1, -1, 2, -2, 3, -3]\n",
            "The rearranged list of positive and negative numbers:\n",
            " [1, 2, 3, -3, -2, -1]\n"
          ],
          "name": "stdout"
        }
      ]
    },
    {
      "cell_type": "markdown",
      "metadata": {
        "id": "mlTp4HJ8rT-D"
      },
      "source": [
        "**9. Write a Python program to filter a list of integers using\r\n",
        "Lambda.**"
      ]
    },
    {
      "cell_type": "code",
      "metadata": {
        "colab": {
          "base_uri": "https://localhost:8080/"
        },
        "id": "bpqfQ2oUrX5q",
        "outputId": "093f0524-2582-4a31-f597-27e006523bbb"
      },
      "source": [
        "list1 = [10, 12, 55, 85, 44, 23, 69, 25, 33]\r\n",
        "print(list1)\r\n",
        "\r\n",
        "even_int = list(filter(lambda a: (a%2 == 0), list1))\r\n",
        "odd_int = list(filter(lambda a: (a%2 != 0), list1))\r\n",
        "\r\n",
        "print(\"Even numbers:\",even_int)\r\n",
        "print(\"Odd numbers:\",odd_int)"
      ],
      "execution_count": 21,
      "outputs": [
        {
          "output_type": "stream",
          "text": [
            "[10, 12, 55, 85, 44, 23, 69, 25, 33]\n",
            "Even numbers: [10, 12, 44]\n",
            "Odd numbers: [55, 85, 23, 69, 25, 33]\n"
          ],
          "name": "stdout"
        }
      ]
    },
    {
      "cell_type": "markdown",
      "metadata": {
        "id": "GTEZ9JRFsKWJ"
      },
      "source": [
        "**10. Write a Python program to find the intersection of two\r\n",
        "given arrays using Lambda and filter.**"
      ]
    },
    {
      "cell_type": "code",
      "metadata": {
        "colab": {
          "base_uri": "https://localhost:8080/"
        },
        "id": "6SJ4vUgFssDR",
        "outputId": "e5e44be7-8ca7-42bd-e1b3-17b1dfc64ff7"
      },
      "source": [
        "list1 = [1,2,3,4,5,6,6]\r\n",
        "list2 = [3,4,7,8]\r\n",
        "\r\n",
        "print(\"List1:\",list1)\r\n",
        "print(\"List2:\",list2)\r\n",
        "\r\n",
        "intersect = list(filter(lambda z: z in list1, list2))\r\n",
        "print(\"The intersection of list1 and list2 is:\",intersect)"
      ],
      "execution_count": 29,
      "outputs": [
        {
          "output_type": "stream",
          "text": [
            "List1: [1, 2, 3, 4, 5, 6, 6]\n",
            "List2: [3, 4, 7, 8]\n",
            "The intersection of list1 and list2 is: [3, 4]\n"
          ],
          "name": "stdout"
        }
      ]
    }
  ]
}