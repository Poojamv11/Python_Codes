{
  "nbformat": 4,
  "nbformat_minor": 0,
  "metadata": {
    "colab": {
      "name": "LoopsAssignment.ipynb",
      "provenance": [],
      "collapsed_sections": []
    },
    "kernelspec": {
      "name": "python3",
      "display_name": "Python 3"
    }
  },
  "cells": [
    {
      "cell_type": "markdown",
      "metadata": {
        "id": "7RSGU-h1B-zW"
      },
      "source": [
        "**1. Print First 10 natural numbers using while loop**"
      ]
    },
    {
      "cell_type": "code",
      "metadata": {
        "colab": {
          "base_uri": "https://localhost:8080/"
        },
        "id": "aeWFhEIXFZQ8",
        "outputId": "8ddb204d-8bc0-41ed-82d4-81e491174c8f"
      },
      "source": [
        "n=1\n",
        "\n",
        "while (n<=10):\n",
        "    print(n)\n",
        "    n+=1"
      ],
      "execution_count": 2,
      "outputs": [
        {
          "output_type": "stream",
          "text": [
            "1\n",
            "2\n",
            "3\n",
            "4\n",
            "5\n",
            "6\n",
            "7\n",
            "8\n",
            "9\n",
            "10\n"
          ],
          "name": "stdout"
        }
      ]
    },
    {
      "cell_type": "markdown",
      "metadata": {
        "id": "DMaqsp6lHV2t"
      },
      "source": [
        "**2. Display -10 to -1 using for loop.**"
      ]
    },
    {
      "cell_type": "code",
      "metadata": {
        "colab": {
          "base_uri": "https://localhost:8080/"
        },
        "id": "rqlrd71pHbXO",
        "outputId": "95856966-f6b5-48c3-a1e5-c7d6006da273"
      },
      "source": [
        "for i in range(-10,0):\n",
        "  print(i) "
      ],
      "execution_count": 9,
      "outputs": [
        {
          "output_type": "stream",
          "text": [
            "-10\n",
            "-9\n",
            "-8\n",
            "-7\n",
            "-6\n",
            "-5\n",
            "-4\n",
            "-3\n",
            "-2\n",
            "-1\n"
          ],
          "name": "stdout"
        }
      ]
    },
    {
      "cell_type": "markdown",
      "metadata": {
        "id": "_Qxnecg4JuRi"
      },
      "source": [
        "**3. Write a python program to print the factorial of a given\n",
        "number.**"
      ]
    },
    {
      "cell_type": "code",
      "metadata": {
        "colab": {
          "base_uri": "https://localhost:8080/"
        },
        "id": "bHMpejXyJ0R1",
        "outputId": "8d362d12-43fa-4678-b1a2-dc8b1ab3ca63"
      },
      "source": [
        "num=int(input(\"Enter a number \\n\"))\n",
        "factorial=1\n",
        "\n",
        "if (num<0):\n",
        "  print(\"No factorial\")\n",
        "elif num==0:\n",
        "  print(\"The factorial of \",num,\"is 1\")\n",
        "else:\n",
        "   for i in range(1,num + 1):  \n",
        "       factorial = factorial*i  \n",
        "   print(\"The factorial of\",num,\"is\",factorial)  "
      ],
      "execution_count": 24,
      "outputs": [
        {
          "output_type": "stream",
          "text": [
            "Enter a number \n",
            "5\n",
            "The factorial of 5 is 120\n"
          ],
          "name": "stdout"
        }
      ]
    },
    {
      "cell_type": "markdown",
      "metadata": {
        "id": "wjFJLYMfOeI7"
      },
      "source": [
        "**4. Write a python program to print all prime numbers\n",
        "between 0 to 100 , and print how many prime numbers\n",
        "are there.**"
      ]
    },
    {
      "cell_type": "code",
      "metadata": {
        "colab": {
          "base_uri": "https://localhost:8080/"
        },
        "id": "O1sKlH5HOjHe",
        "outputId": "ab1f432e-b4bb-4b6e-80de-b2ce0e81d25b"
      },
      "source": [
        "min=int(input(\"Enter the minimum number: \"))\n",
        "max=int(input(\"Enter the maximum number: \"))\n",
        "\n",
        "for i in range(min,max):\n",
        "  if i>1:\n",
        "    for j in range(2,i):\n",
        "       if(i % j==0):\n",
        "         break\n",
        "    else:\n",
        "     print(i)\n"
      ],
      "execution_count": 5,
      "outputs": [
        {
          "output_type": "stream",
          "text": [
            "Enter the minimum number: 1\n",
            "Enter the maximum number: 100\n",
            "2 \t\n",
            "3 \t\n",
            "5 \t\n",
            "7 \t\n",
            "11 \t\n",
            "13 \t\n",
            "17 \t\n",
            "19 \t\n",
            "23 \t\n",
            "29 \t\n",
            "31 \t\n",
            "37 \t\n",
            "41 \t\n",
            "43 \t\n",
            "47 \t\n",
            "53 \t\n",
            "59 \t\n",
            "61 \t\n",
            "67 \t\n",
            "71 \t\n",
            "73 \t\n",
            "79 \t\n",
            "83 \t\n",
            "89 \t\n",
            "97 \t\n"
          ],
          "name": "stdout"
        }
      ]
    },
    {
      "cell_type": "markdown",
      "metadata": {
        "id": "qlsYtfc-2y6Y"
      },
      "source": [
        "**5.Print the following pattern :**\n",
        "\n",
        "**1**\n",
        "\n",
        "**1 2**\n",
        "\n",
        "**1 2 3**\n",
        "\n",
        "**1 2 3 4**\n",
        "\n",
        "**1 2 3 4 5**\n",
        "\n"
      ]
    },
    {
      "cell_type": "code",
      "metadata": {
        "colab": {
          "base_uri": "https://localhost:8080/"
        },
        "id": "9KamPsug27VG",
        "outputId": "aae06b82-f1d0-402b-e19f-778744e766bb"
      },
      "source": [
        "lines= int(input(\"Enter the number of rows: \"))\n",
        "\n",
        "for row in range(1, lines+1):\n",
        "  for column in range(1, row+1):\n",
        "    print(column, end=' ')\n",
        "  print(\" \")\n",
        "\n"
      ],
      "execution_count": 13,
      "outputs": [
        {
          "output_type": "stream",
          "text": [
            "Enter the number of rows: 5\n",
            "1  \n",
            "1 2  \n",
            "1 2 3  \n",
            "1 2 3 4  \n",
            "1 2 3 4 5  \n"
          ],
          "name": "stdout"
        }
      ]
    },
    {
      "cell_type": "markdown",
      "metadata": {
        "id": "Xv95FpJe6ESX"
      },
      "source": [
        "**6. Accept n number from user and calculate the sum of all\n",
        "number between 1 and n including n**"
      ]
    },
    {
      "cell_type": "code",
      "metadata": {
        "colab": {
          "base_uri": "https://localhost:8080/"
        },
        "id": "mH-hgP116KxW",
        "outputId": "f53cecdc-32d3-44af-c3fe-b27b383c422c"
      },
      "source": [
        "n=int(input(\"Enter a number to calculate the sum: \"))\n",
        "\n",
        "sum=0\n",
        "for num in range(0, n+1):\n",
        "  sum=sum+num\n",
        "print(\"The sum of first\",n,\"is\",sum)"
      ],
      "execution_count": 17,
      "outputs": [
        {
          "output_type": "stream",
          "text": [
            "Enter a number to calculate the sum: 6\n",
            "The sum of first 6 is 21\n"
          ],
          "name": "stdout"
        }
      ]
    },
    {
      "cell_type": "markdown",
      "metadata": {
        "id": "ZrQLlsEZ8JCT"
      },
      "source": [
        "**7. Given a number count the total number of digits in a\n",
        "number.**"
      ]
    },
    {
      "cell_type": "code",
      "metadata": {
        "colab": {
          "base_uri": "https://localhost:8080/"
        },
        "id": "mYqsCJ2c8P8i",
        "outputId": "8ef1662f-2e5f-4a7b-cf5d-d7514ff5e3db"
      },
      "source": [
        "n1=int(input(\"Enter a number to count the digits in it: \"))\n",
        "\n",
        "count=0\n",
        "while(n1>0):\n",
        "  count=count+1\n",
        "  n1= n1//10\n",
        "\n",
        "print(\"The number of digits in given number is\",count)"
      ],
      "execution_count": 29,
      "outputs": [
        {
          "output_type": "stream",
          "text": [
            "Enter a number to count the digits in it: 123456\n",
            "The number of digits in given number is 6\n"
          ],
          "name": "stdout"
        }
      ]
    },
    {
      "cell_type": "markdown",
      "metadata": {
        "id": "rjrOHmhHAvd0"
      },
      "source": [
        "**8. Write a Python program to create the multiplication table\n",
        "(from 1 to 10) of a number.**"
      ]
    },
    {
      "cell_type": "code",
      "metadata": {
        "colab": {
          "base_uri": "https://localhost:8080/"
        },
        "id": "Fg9ek-R8BNjb",
        "outputId": "ceb4091c-3b30-4d56-b6b7-997309745a4f"
      },
      "source": [
        "number=int(input(\"Enter a number: \"))\n",
        "\n",
        "for i in range(1,11):\n",
        "  print(number,'x',i,'=', number*i)"
      ],
      "execution_count": 31,
      "outputs": [
        {
          "output_type": "stream",
          "text": [
            "Enter a number: 2\n",
            "2 x 1 = 2\n",
            "2 x 2 = 4\n",
            "2 x 3 = 6\n",
            "2 x 4 = 8\n",
            "2 x 5 = 10\n",
            "2 x 6 = 12\n",
            "2 x 7 = 14\n",
            "2 x 8 = 16\n",
            "2 x 9 = 18\n",
            "2 x 10 = 20\n"
          ],
          "name": "stdout"
        }
      ]
    },
    {
      "cell_type": "markdown",
      "metadata": {
        "id": "85tYIv5SIXSE"
      },
      "source": [
        "**9. Reverse the following list using for loop.**\n",
        "\n",
        "**list1 = [10, 20, 30, 40, 50]**"
      ]
    },
    {
      "cell_type": "code",
      "metadata": {
        "colab": {
          "base_uri": "https://localhost:8080/"
        },
        "id": "LDVqTtJawv2r",
        "outputId": "08267e20-be56-48ac-94a6-7c5ffaa58751"
      },
      "source": [
        "list1 = [10, 20, 30, 40, 50]\n",
        "list2 = [ ]\n",
        "##list1.reverse()\n",
        "print(list1)\n",
        "\n",
        "for i in range(len(list1)):\n",
        "    list2.insert(i,list1[-1])\n",
        "    list1.pop(-1)\n",
        "print(\"--------------------\")\n",
        "print(list2)\n"
      ],
      "execution_count": 8,
      "outputs": [
        {
          "output_type": "stream",
          "text": [
            "[10, 20, 30, 40, 50]\n",
            "--------------------\n",
            "[50, 40, 30, 20, 10]\n"
          ],
          "name": "stdout"
        }
      ]
    },
    {
      "cell_type": "markdown",
      "metadata": {
        "id": "tuOU6xuG2TPc"
      },
      "source": [
        "**10. Write a Python program to construct the following\n",
        "pattern, using a nested for loop.**\n"
      ]
    },
    {
      "cell_type": "code",
      "metadata": {
        "colab": {
          "base_uri": "https://localhost:8080/"
        },
        "id": "3Txv7GhB2l6f",
        "outputId": "f8da212a-18bc-4221-bd4e-0563c953c3db"
      },
      "source": [
        "n=int(input(\"Enter the number of rows: \"))\n",
        "\n",
        "for i in range(0, n):\n",
        "  for j in range(0, i+1):\n",
        "    print(\"*\", end=' ')\n",
        "  print(\" \")\n",
        "  \n",
        "for i in range(n+1, 0, -1):\n",
        "  for j in range(0, i-1):\n",
        "    print(\"*\", end=' ')\n",
        "  print(\" \")  \n"
      ],
      "execution_count": 40,
      "outputs": [
        {
          "output_type": "stream",
          "text": [
            "Enter the number of rows: 5\n",
            "*  \n",
            "* *  \n",
            "* * *  \n",
            "* * * *  \n",
            "* * * * *  \n",
            "* * * * *  \n",
            "* * * *  \n",
            "* * *  \n",
            "* *  \n",
            "*  \n",
            " \n"
          ],
          "name": "stdout"
        }
      ]
    },
    {
      "cell_type": "markdown",
      "metadata": {
        "id": "4EjJ4kVWCduZ"
      },
      "source": [
        "**11. Write a Python program that accepts a string and\n",
        "calculate the number of digits and letters.**"
      ]
    },
    {
      "cell_type": "code",
      "metadata": {
        "colab": {
          "base_uri": "https://localhost:8080/"
        },
        "id": "3i6tBX6_Ckov",
        "outputId": "47711382-3451-4c79-b717-be8cc6f383d6"
      },
      "source": [
        "s=input(\"Enter a string with both digits and alphabets: \\n\")\n",
        "digits=0\n",
        "letters=0\n",
        "\n",
        "for i in s:\n",
        "  if i.isdigit():\n",
        "    digits=digits+1\n",
        "  elif i.isalpha():\n",
        "    letters=letters+1\n",
        "  else:\n",
        "    (\"No digits and letters found in the string\")\n",
        "\n",
        "print(\"The number of digits in the string\",s,\": \",digits)\n",
        "print(\"The number of alphabets in the string\",s,\": \",letters)"
      ],
      "execution_count": 44,
      "outputs": [
        {
          "output_type": "stream",
          "text": [
            "Enter a string with both digits and alphabets: \n",
            "Hello@1234\n",
            "The number of digits in the string Hello@1234 :  4\n",
            "The number of alphabets in the string Hello@1234 :  5\n"
          ],
          "name": "stdout"
        }
      ]
    },
    {
      "cell_type": "markdown",
      "metadata": {
        "id": "KgbhTo2wItaQ"
      },
      "source": [
        "**12. From a list containing ints, strings and floats, make\n",
        "three lists to store them separately.**"
      ]
    },
    {
      "cell_type": "code",
      "metadata": {
        "colab": {
          "base_uri": "https://localhost:8080/"
        },
        "id": "KQlXYcUHIznd",
        "outputId": "ec1de6d2-2a70-43f7-cb9f-24d06f4aa37d"
      },
      "source": [
        "list1=['sun', 'moon', 11, 5.4, 'python', 2020]  \n",
        "i=[ ]\n",
        "s=[ ]\n",
        "f=[ ]\n",
        "\n",
        "for d in list1:\n",
        "  if type(d)== int:\n",
        "    i.append(d)\n",
        "  elif type(d)== str:\n",
        "    s.append(d)\n",
        "  elif type(d)== float:\n",
        "    f.append(d)\n",
        "\n",
        "print(\"List of integers\",i)\n",
        "print(\"List of strings\",s)\n",
        "print(\"List of Floating numbers\",f)"
      ],
      "execution_count": 54,
      "outputs": [
        {
          "output_type": "stream",
          "text": [
            "List of integers [11, 2020]\n",
            "List of strings ['sun', 'moon', 'python']\n",
            "List of Floating numbers [5.4]\n"
          ],
          "name": "stdout"
        }
      ]
    }
  ]
}