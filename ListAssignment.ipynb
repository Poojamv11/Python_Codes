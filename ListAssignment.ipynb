{
  "nbformat": 4,
  "nbformat_minor": 0,
  "metadata": {
    "colab": {
      "name": "ListAssignment.ipynb",
      "provenance": [],
      "collapsed_sections": []
    },
    "kernelspec": {
      "name": "python3",
      "display_name": "Python 3"
    }
  },
  "cells": [
    {
      "cell_type": "markdown",
      "metadata": {
        "id": "xwqOfXEh3mVG"
      },
      "source": [
        "**1. City = [‘Gurgaon’, ’Mumbai’, ’Bangalore’]**\n",
        "\n",
        "**i) Print the second item from the list.**\n",
        "\n",
        "**ii) Change the value from \"Gurgaon\" to \"Kerala\"**\n",
        "\n",
        "**iii) Remove the last element of the list.**"
      ]
    },
    {
      "cell_type": "code",
      "metadata": {
        "colab": {
          "base_uri": "https://localhost:8080/"
        },
        "id": "X8XBPIYt4T4A",
        "outputId": "eeb11d62-44da-4970-ae09-a32a3ffcca1b"
      },
      "source": [
        "City = ['Gurgaon', 'Mumbai', 'Bangalore']\n",
        "\n",
        "print(City)\n",
        "print(\"-------------------\")\n",
        "## Print the second item from the list.\n",
        "print(\"Printing the second item from the list: \",City.pop(1))\n",
        "print(\"Now the list has: \",City)\n",
        "print(\"-------------------\")\n",
        "## Change the value from \"Gurgaon\" to \"Kerala\"\n",
        "new_city=[]\n",
        "for s in City:\n",
        "  new=s.replace('Gurgaon','Kerala')\n",
        "  new_city.append(new)\n",
        "\n",
        "print(\"Changing the values of list\", City,\"to: \", new_city)\n",
        "print(\"-------------------\")\n",
        "## Remove the last element of the list.\n",
        "print(\"Removing the last element from the list :\", new_city.pop(-1))\n",
        "print(\"-------------------\")\n",
        "print(\"Now the list is left with :\",new_city)"
      ],
      "execution_count": 19,
      "outputs": [
        {
          "output_type": "stream",
          "text": [
            "['Gurgaon', 'Mumbai', 'Bangalore']\n",
            "-------------------\n",
            "Printing the second item from the list:  Mumbai\n",
            "Now the list has:  ['Gurgaon', 'Bangalore']\n",
            "-------------------\n",
            "Changing the values of list ['Gurgaon', 'Bangalore'] to:  ['Kerala', 'Bangalore']\n",
            "-------------------\n",
            "Removing the last element from the list : Bangalore\n",
            "-------------------\n",
            "Now the list is left with : ['Kerala']\n"
          ],
          "name": "stdout"
        }
      ]
    },
    {
      "cell_type": "markdown",
      "metadata": {
        "id": "fz5ps1RR3__E"
      },
      "source": [
        "**2. Use negative indexing to print the last item in the list. Make\n",
        "a list by yourself.**"
      ]
    },
    {
      "cell_type": "code",
      "metadata": {
        "colab": {
          "base_uri": "https://localhost:8080/"
        },
        "id": "68EjEPUM_WgQ",
        "outputId": "58b5c7e6-c4a0-400d-97be-bb1ba09701d1"
      },
      "source": [
        "Fruits=['Apple', 'Orange', 'Grapes', 'Banana']\n",
        "\n",
        "print(Fruits)\n",
        "print(\"By using negative indexing, printing last item from the list: \",Fruits[-1])"
      ],
      "execution_count": 26,
      "outputs": [
        {
          "output_type": "stream",
          "text": [
            "['Apple', 'Orange', 'Grapes', 'Banana']\n",
            "By using negative indexing, printing last item from the list:  Banana\n"
          ],
          "name": "stdout"
        }
      ]
    },
    {
      "cell_type": "markdown",
      "metadata": {
        "id": "O2_4QjcXCNOs"
      },
      "source": [
        "**3. Use a range of indexes to print the third, fourth, and fifth\n",
        "item in the list. Make a list by yourself.**\n"
      ]
    },
    {
      "cell_type": "code",
      "metadata": {
        "colab": {
          "base_uri": "https://localhost:8080/"
        },
        "id": "YBaGfX9LCS43",
        "outputId": "785b2884-2315-4dbf-ccc1-5782716c9fe9"
      },
      "source": [
        "Fruits=['Apple', 'Orange', 'Grapes', 'Banana', 'Guava', 'Mango']\n",
        "\n",
        "print(Fruits)\n",
        "print(\"Printing the third, Fourth and Fifth item from the list: \",end=\" \")\n",
        "print(Fruits[2],\",\",Fruits[3],\",\",Fruits[-2])"
      ],
      "execution_count": 31,
      "outputs": [
        {
          "output_type": "stream",
          "text": [
            "['Apple', 'Orange', 'Grapes', 'Banana', 'Guava', 'Mango']\n",
            "Printing the third, Fourth and Fifth item from the list:  Grapes , Banana , Guava\n"
          ],
          "name": "stdout"
        }
      ]
    },
    {
      "cell_type": "markdown",
      "metadata": {
        "id": "P2b-eIo1Df9A"
      },
      "source": [
        "**4. Remove the last element from the city list.**"
      ]
    },
    {
      "cell_type": "code",
      "metadata": {
        "colab": {
          "base_uri": "https://localhost:8080/"
        },
        "id": "xv4WdJPUDmI6",
        "outputId": "b72bd9a8-59a3-4646-c982-8e365a5b7da4"
      },
      "source": [
        "City = ['Gurgaon', 'Mumbai', 'Bangalore']\n",
        "\n",
        "print(City)\n",
        "print(\"Removing the last element from the list: \",City.pop(-1))\n",
        "print(\"Remaining list: \",City)"
      ],
      "execution_count": 36,
      "outputs": [
        {
          "output_type": "stream",
          "text": [
            "['Gurgaon', 'Mumbai', 'Bangalore']\n",
            "Removing the last element from the list:  Bangalore\n",
            "Remaining list:  ['Gurgaon', 'Mumbai']\n"
          ],
          "name": "stdout"
        }
      ]
    },
    {
      "cell_type": "markdown",
      "metadata": {
        "id": "4Lp8D8baF5Nd"
      },
      "source": [
        "**5. fruits=[‘apple’,’lichi’,’guava’,’cherry’,’mango’,’watermelon’,’banana’]**\n",
        "\n",
        "**i ) Add \"orange\" at the end of the above list.**\n",
        "\n",
        "**ii) Add \"lemon\" as the second item in the fruits list**"
      ]
    },
    {
      "cell_type": "code",
      "metadata": {
        "colab": {
          "base_uri": "https://localhost:8080/"
        },
        "id": "v7eOpeWoGI3v",
        "outputId": "7f9529d6-c797-464a-c4cd-f117adba673e"
      },
      "source": [
        "fruits=['apple','lichi','guava','cherry','mango','watermelon','banana']\n",
        "\n",
        "print(fruits)\n",
        "##Add \"orange\" at the end of the above list\n",
        "fruits.append('orange')\n",
        "print(\"Adding orange at the end of the list: \",fruits)\n",
        "\n",
        "## Add \"lemon\" as the second item in the fruits list\n",
        "fruits.insert(1,'lemon')\n",
        "print(\"Adding lemon as the second item to the list: \",fruits)\n"
      ],
      "execution_count": 38,
      "outputs": [
        {
          "output_type": "stream",
          "text": [
            "['apple', 'lichi', 'guava', 'cherry', 'mango', 'watermelon', 'banana']\n",
            "Adding orange at the end of the list:  ['apple', 'lichi', 'guava', 'cherry', 'mango', 'watermelon', 'banana', 'orange']\n",
            "Adding lemon as the second item to the list:  ['apple', 'lemon', 'lichi', 'guava', 'cherry', 'mango', 'watermelon', 'banana', 'orange']\n"
          ],
          "name": "stdout"
        }
      ]
    },
    {
      "cell_type": "markdown",
      "metadata": {
        "id": "iw4Oh-sVH7mx"
      },
      "source": [
        "**6. Remove ‘cherry’ from the fruit list given above.**\n"
      ]
    },
    {
      "cell_type": "code",
      "metadata": {
        "colab": {
          "base_uri": "https://localhost:8080/"
        },
        "id": "pXqY-6dLIA3i",
        "outputId": "8c2aa5ed-3a4e-4484-e895-73402df65e00"
      },
      "source": [
        "fruits= ['apple', 'lemon', 'lichi', 'guava', 'cherry', 'mango', 'watermelon', 'banana', 'orange']\n",
        "\n",
        "print(fruits)\n",
        "print(\"Removing 'cherry' from the list above: \",fruits.pop(4))\n",
        "print(\"The remaining list is: \", fruits)"
      ],
      "execution_count": 40,
      "outputs": [
        {
          "output_type": "stream",
          "text": [
            "['apple', 'lemon', 'lichi', 'guava', 'cherry', 'mango', 'watermelon', 'banana', 'orange']\n",
            "Removing 'cherry' from the list above:  cherry\n",
            "The remaining list is:  ['apple', 'lemon', 'lichi', 'guava', 'mango', 'watermelon', 'banana', 'orange']\n"
          ],
          "name": "stdout"
        }
      ]
    },
    {
      "cell_type": "markdown",
      "metadata": {
        "id": "Q1bE_0oRIwdH"
      },
      "source": [
        "**7. Write the python program to let the user input a list of\n",
        "numbers and print the list in descending order.**"
      ]
    },
    {
      "cell_type": "code",
      "metadata": {
        "colab": {
          "base_uri": "https://localhost:8080/"
        },
        "id": "uf1ANCMfI5X6",
        "outputId": "63baff55-df51-46aa-f2a2-499c138d7a3a"
      },
      "source": [
        "user=[]\n",
        "n=int(input(\"Enter a list of numbers: \"))\n",
        "for i in range(0,n):\n",
        "  elements=int(input())\n",
        "\n",
        "  user.append(elements)\n",
        "print(user)\n",
        "user.sort(reverse=True)\n",
        "\n",
        "print(\"The list in descending order: \",user)\n"
      ],
      "execution_count": 52,
      "outputs": [
        {
          "output_type": "stream",
          "text": [
            "Enter a list of numbers: 6\n",
            "4\n",
            "3\n",
            "9\n",
            "7\n",
            "5\n",
            "1\n",
            "[4, 3, 9, 7, 5, 1]\n",
            "The list in descending order:  [9, 7, 5, 4, 3, 1]\n"
          ],
          "name": "stdout"
        }
      ]
    },
    {
      "cell_type": "markdown",
      "metadata": {
        "id": "DC1EwQoUNMAg"
      },
      "source": [
        "**8. Write the python program to let the user input two lists and\n",
        "combine both the lists.**"
      ]
    },
    {
      "cell_type": "code",
      "metadata": {
        "colab": {
          "base_uri": "https://localhost:8080/"
        },
        "id": "rYo8nCOyNSFG",
        "outputId": "c2262f02-5923-4933-eda1-136f4c18cd33"
      },
      "source": [
        "a=[]\n",
        "b=[]\n",
        "n1=int(input(\"Enter the number of elements in the first list: \"))\n",
        "for i in range(1,n1+1):\n",
        "  list1=input(\"Enter the elements: \")\n",
        "  a.append(list1)\n",
        "print(\"\\n\")\n",
        "n2=int(input(\"Enter the number of elements in the second list: \"))\n",
        "for i in range(1,n2+1):\n",
        "  list2=input(\"Enter the elements: \")\n",
        "  b.append(list2)\n",
        "print(\"\\n\")\n",
        "newlist=a+b\n",
        "print(newlist)\n"
      ],
      "execution_count": 8,
      "outputs": [
        {
          "output_type": "stream",
          "text": [
            "Enter the number of elements in the first list: 3\n",
            "Enter the elements: hi\n",
            "Enter the elements: hello\n",
            "Enter the elements: 123\n",
            "\n",
            "\n",
            "Enter the number of elements in the second list: 2\n",
            "Enter the elements: good\n",
            "Enter the elements: morning\n",
            "\n",
            "\n",
            "['hi', 'hello', '123', 'good', 'morning']\n"
          ],
          "name": "stdout"
        }
      ]
    },
    {
      "cell_type": "markdown",
      "metadata": {
        "id": "Orep8pTxZ7xM"
      },
      "source": [
        "**9. List = [10, 45, 78, 11, 9, 23]. Shuffle this list.**"
      ]
    },
    {
      "cell_type": "code",
      "metadata": {
        "colab": {
          "base_uri": "https://localhost:8080/"
        },
        "id": "cKCrBNYJaSrN",
        "outputId": "80008dee-02a6-49fa-f7c9-de3ad877c6a4"
      },
      "source": [
        "import random\n",
        "\n",
        "List=[10,45,78,11,9,23]\n",
        "random.shuffle(List)\n",
        "print(\"The shuffled list\", List)"
      ],
      "execution_count": 13,
      "outputs": [
        {
          "output_type": "stream",
          "text": [
            "The shuffled list [9, 78, 11, 23, 10, 45]\n"
          ],
          "name": "stdout"
        }
      ]
    },
    {
      "cell_type": "markdown",
      "metadata": {
        "id": "UXUjVCfWbEWq"
      },
      "source": [
        "**10. x = [10, [3.141, 20, [30, 'baz', 2.718]], 'foo']**\n",
        "\n",
        "**i) What is the expression that returns the 'z' in 'baz'?**\n",
        "\n",
        "**ii) What expression returns the list ['baz', 2.718]?**"
      ]
    },
    {
      "cell_type": "code",
      "metadata": {
        "colab": {
          "base_uri": "https://localhost:8080/"
        },
        "id": "49u0YqVdbSPs",
        "outputId": "39cbfe2c-9d80-4c8b-a0bd-b9a4e3c268f9"
      },
      "source": [
        "x=[10,[3.141,20,[30,'baz',2.718]],'foo']\n",
        "\n",
        "print(\"The length of list x: \",len(x))\n",
        "## What is the expression that returns the 'z' in 'baz'?\n",
        "a=x[1][2][1]\n",
        "print(\"Returning z from 'baz': \",a[2])\n",
        "\n",
        "## What expression returns the list ['baz', 2.718]?\n",
        "b=x[1][2]\n",
        "b.pop(0)\n",
        "##print(\"returning last two items from the list of [30,'baz',2.718]:\",b[1],b[2])\n",
        "print(\"Returning last two items from the list of [30,'baz',2.718]:\",b)"
      ],
      "execution_count": 54,
      "outputs": [
        {
          "output_type": "stream",
          "text": [
            "The length of list x:  3\n",
            "Returning z from 'baz':  z\n",
            "Returning last two items from the list of [30,'baz',2.718]: ['baz', 2.718]\n"
          ],
          "name": "stdout"
        }
      ]
    },
    {
      "cell_type": "markdown",
      "metadata": {
        "id": "CnKAlT3yo2Ou"
      },
      "source": [
        "**11. Extract element 20 from the above list.**"
      ]
    },
    {
      "cell_type": "code",
      "metadata": {
        "colab": {
          "base_uri": "https://localhost:8080/"
        },
        "id": "c41dC7ITo7SA",
        "outputId": "e70842c0-67de-4637-e7e5-a4fa4960b1cb"
      },
      "source": [
        "x=[10,[3.141,20,[30,'baz',2.718]],'foo']\n",
        "\n",
        "x1=x[1][1]\n",
        "print(\"Extracting element 20 from the list: \",x1)"
      ],
      "execution_count": 56,
      "outputs": [
        {
          "output_type": "stream",
          "text": [
            "Extracting element 20 from the list:  20\n"
          ],
          "name": "stdout"
        }
      ]
    },
    {
      "cell_type": "markdown",
      "metadata": {
        "id": "msakeh32pWqD"
      },
      "source": [
        "**12. You have a list a = [1, 2, 7, 8]**\n",
        "\n",
        "**Write a Python statement using slice assignment that will fill in\n",
        "the missing values so that a equals [1, 2, 3, 4, 5, 6, 7, 8]**"
      ]
    },
    {
      "cell_type": "code",
      "metadata": {
        "colab": {
          "base_uri": "https://localhost:8080/"
        },
        "id": "yAvkBZYophsQ",
        "outputId": "0fedb854-df3b-40dc-9d75-9c41d8e8bf20"
      },
      "source": [
        "a = [1, 2, 7, 8]\n",
        "print(\"The list a:\", a,\"\\n\")\n",
        "a[2:1]=[3, 4, 5, 6]\n",
        "\n",
        "print(\"The list 'a' after filling the missing values, a: \",a)"
      ],
      "execution_count": 64,
      "outputs": [
        {
          "output_type": "stream",
          "text": [
            "The list a: [1, 2, 7, 8] \n",
            "\n",
            "The list 'a' after filling the missing values, a:  [1, 2, 3, 4, 5, 6, 7, 8]\n"
          ],
          "name": "stdout"
        }
      ]
    }
  ]
}