{
  "nbformat": 4,
  "nbformat_minor": 0,
  "metadata": {
    "colab": {
      "name": "StringAssignment1.ipynb",
      "provenance": []
    },
    "kernelspec": {
      "name": "python3",
      "display_name": "Python 3"
    }
  },
  "cells": [
    {
      "cell_type": "markdown",
      "metadata": {
        "id": "-S4gOLvdn58g"
      },
      "source": [
        "**1. Define different types of variables (integer, boolean,\n",
        "string, float, complex) and print their values and their\n",
        "types**"
      ]
    },
    {
      "cell_type": "code",
      "metadata": {
        "id": "di0Un_sen_uA",
        "colab": {
          "base_uri": "https://localhost:8080/"
        },
        "outputId": "7a7eb811-64ee-43c9-b456-6b1a8c4a51b3"
      },
      "source": [
        "a=123\n",
        "b= True\n",
        "c=\"hello i am a string\"\n",
        "d=12.34\n",
        "e=2+3j\n",
        "\n",
        "print(a)\n",
        "print(type(a))\n",
        "print(\"\\n\")\n",
        "\n",
        "print(b)\n",
        "print(type(b))\n",
        "print(\"\\n\")\n",
        "\n",
        "print(c)\n",
        "print(type(c))\n",
        "print(\"\\n\")\n",
        "\n",
        "print(d)\n",
        "print(type(d))\n",
        "print(\"\\n\")\n",
        "\n",
        "print(e)\n",
        "print(type(e))"
      ],
      "execution_count": 9,
      "outputs": [
        {
          "output_type": "stream",
          "text": [
            "123\n",
            "<class 'int'>\n",
            "\n",
            "\n",
            "True\n",
            "<class 'bool'>\n",
            "\n",
            "\n",
            "hello i am a string\n",
            "<class 'str'>\n",
            "\n",
            "\n",
            "12.34\n",
            "<class 'float'>\n",
            "\n",
            "\n",
            "(2+3j)\n",
            "<class 'complex'>\n"
          ],
          "name": "stdout"
        }
      ]
    },
    {
      "cell_type": "markdown",
      "metadata": {
        "id": "UBJOtAC4LRTK"
      },
      "source": [
        "**2. In the above question convert float variable into integer\n",
        "type and integer variable into str type.**"
      ]
    },
    {
      "cell_type": "code",
      "metadata": {
        "colab": {
          "base_uri": "https://localhost:8080/"
        },
        "id": "T7gtfwaQLXj2",
        "outputId": "5f5df038-d8ae-44cd-ddaf-536c243c1aa1"
      },
      "source": [
        "d=12.34\n",
        "\n",
        "print(d)\n",
        "print(type(d))\n",
        "print(\"\\n\")\n",
        "print(\"Converting float value of d to integer value\")\n",
        "i=int(d)\n",
        "print(i)\n",
        "print(type(i))\n",
        "print(\"\\n\")\n",
        "print(\"Converting integer value of i to string value\")\n",
        "s=str(i)\n",
        "print(s)\n",
        "print(type(s))"
      ],
      "execution_count": 10,
      "outputs": [
        {
          "output_type": "stream",
          "text": [
            "12.34\n",
            "<class 'float'>\n",
            "\n",
            "\n",
            "Converting float value of d to integer value\n",
            "12\n",
            "<class 'int'>\n",
            "\n",
            "\n",
            "Converting integer value of i to string value\n",
            "12\n",
            "<class 'str'>\n"
          ],
          "name": "stdout"
        }
      ]
    },
    {
      "cell_type": "markdown",
      "metadata": {
        "id": "rx0EdyqhLcyH"
      },
      "source": [
        "**3. What will you get converting “abc” into boolean ?**"
      ]
    },
    {
      "cell_type": "code",
      "metadata": {
        "colab": {
          "base_uri": "https://localhost:8080/"
        },
        "id": "Vg0tV2cYLif2",
        "outputId": "745f1097-5c3b-40d9-ae03-7307c8867dbf"
      },
      "source": [
        "s=\"abc\"\n",
        "\n",
        "print(s +\" \" + \"is a string\"+ \"\\n\")\n",
        "print(\"If we convert\" + \" \" +s +\" \" +\"to boolean, we get\"+ \"\\n\")\n",
        "b=bool(s)\n",
        "print(b)"
      ],
      "execution_count": 11,
      "outputs": [
        {
          "output_type": "stream",
          "text": [
            "abc is a string\n",
            "\n",
            "If we convert abc to boolean, we get\n",
            "\n",
            "True\n"
          ],
          "name": "stdout"
        }
      ]
    },
    {
      "cell_type": "markdown",
      "metadata": {
        "id": "W1C-bpZ5Ll5G"
      },
      "source": [
        "**4. Print the substring from index 2 to index 4 for any given\n",
        "string. For example ( llo ) from “Hello World”**"
      ]
    },
    {
      "cell_type": "code",
      "metadata": {
        "colab": {
          "base_uri": "https://localhost:8080/"
        },
        "id": "-CKN59goLuEZ",
        "outputId": "c90aebff-aab7-4a4b-e065-2e394b128017"
      },
      "source": [
        "str1=\"Hello World\"\n",
        "\n",
        "print(str1)\n",
        "print(\"Printing the substring from index 2 to 4\" +\" \" +(str1[2:5]))"
      ],
      "execution_count": 12,
      "outputs": [
        {
          "output_type": "stream",
          "text": [
            "Hello World\n",
            "Printing the substring from index 2 to 4 llo\n"
          ],
          "name": "stdout"
        }
      ]
    },
    {
      "cell_type": "markdown",
      "metadata": {
        "id": "I-FsbGkrL0Im"
      },
      "source": [
        "**5. Write a program to check a substring in a given string.\n",
        "For example 'e' is present in the word 'Umbrella'**"
      ]
    },
    {
      "cell_type": "code",
      "metadata": {
        "colab": {
          "base_uri": "https://localhost:8080/"
        },
        "id": "z9bA3wqsL54U",
        "outputId": "bbf6410a-070c-4424-c7fc-3057fc815e54"
      },
      "source": [
        "S1='Umbrella'\n",
        "S2='e'\n",
        "sub=str.find(S1,S2)\n",
        "\n",
        "\n",
        "if(S2 in S1):\n",
        "    print(\"Substring e is present in String Umbrella\")\n",
        "else:\n",
        "    print(\"Substring e is not present in String Umbrella\")\n",
        "print(sub)"
      ],
      "execution_count": 13,
      "outputs": [
        {
          "output_type": "stream",
          "text": [
            "Substring e is present in String Umbrella\n",
            "4\n"
          ],
          "name": "stdout"
        }
      ]
    },
    {
      "cell_type": "markdown",
      "metadata": {
        "id": "WtC5nrKvL-Gx"
      },
      "source": [
        "**6. Use the correct comparison operator to check if 5 is not\n",
        "equal to 10**"
      ]
    },
    {
      "cell_type": "code",
      "metadata": {
        "colab": {
          "base_uri": "https://localhost:8080/"
        },
        "id": "tjIczH5_MA-A",
        "outputId": "da9bab71-4b32-47f6-9704-7859c0288bdd"
      },
      "source": [
        "a=5\n",
        "b=10\n",
        "\n",
        "if(a != b):\n",
        "    print(\"5 is not equal to 10\")\n",
        "else:\n",
        "    print(\"5 is equal to 10\")"
      ],
      "execution_count": 14,
      "outputs": [
        {
          "output_type": "stream",
          "text": [
            "5 is not equal to 10\n"
          ],
          "name": "stdout"
        }
      ]
    },
    {
      "cell_type": "markdown",
      "metadata": {
        "id": "cykbZwhxME_R"
      },
      "source": [
        "**7. Write a program to get a string from the user and sort the\n",
        "words of the string in alphabetical order.**"
      ]
    },
    {
      "cell_type": "code",
      "metadata": {
        "colab": {
          "base_uri": "https://localhost:8080/"
        },
        "id": "xllyf7CYMJB1",
        "outputId": "7b2c1841-5bfd-4ba6-aa90-20bd2fe8f709"
      },
      "source": [
        "S1=input(\"Enter any string \\n\")\n",
        "\n",
        "S2=sorted(S1)\n",
        "print(S2)"
      ],
      "execution_count": 19,
      "outputs": [
        {
          "output_type": "stream",
          "text": [
            "Enter any string \n",
            "ALPHABETICAL\n",
            "['A', 'A', 'A', 'B', 'C', 'E', 'H', 'I', 'L', 'L', 'P', 'T']\n"
          ],
          "name": "stdout"
        }
      ]
    },
    {
      "cell_type": "markdown",
      "metadata": {
        "id": "ufMPOyU0NKLR"
      },
      "source": [
        "**8. Join two words using special characters like ‘ – ‘ ,’#’**"
      ]
    },
    {
      "cell_type": "code",
      "metadata": {
        "colab": {
          "base_uri": "https://localhost:8080/"
        },
        "id": "Z34530nENQfk",
        "outputId": "8f517e66-3b69-448e-df0c-632c5785b7bd"
      },
      "source": [
        "str1='Good Morning'\n",
        "\n",
        "print(str1)\n",
        "print(\"\\n\")\n",
        "str2=str1.split(' ')\n",
        "\n",
        "print('-'.join(str2))\n",
        "print('#'.join(str2))\n",
        "print(\"\\n\")\n",
        "print('-'.join(str1))\n",
        "print('#'.join(str1))"
      ],
      "execution_count": 28,
      "outputs": [
        {
          "output_type": "stream",
          "text": [
            "Good Morning\n",
            "\n",
            "\n",
            "Good-Morning\n",
            "Good#Morning\n",
            "\n",
            "\n",
            "G-o-o-d- -M-o-r-n-i-n-g\n",
            "G#o#o#d# #M#o#r#n#i#n#g\n"
          ],
          "name": "stdout"
        }
      ]
    },
    {
      "cell_type": "markdown",
      "metadata": {
        "id": "_6_tZVtQPOQD"
      },
      "source": [
        "**9.Find all occurrences of “INDIA” in a given string\n",
        "ignoring the case.**\n",
        "\n",
        "\n",
        "**input_str = \"Welcome to INDIA. india is awesome.\"**\n"
      ]
    },
    {
      "cell_type": "code",
      "metadata": {
        "colab": {
          "base_uri": "https://localhost:8080/"
        },
        "id": "nx9Z2fg1OaMA",
        "outputId": "d7f1d93a-56c0-4408-a471-6d3c960054b3"
      },
      "source": [
        "input_str = \"Welcome to INDIA. india is awesome.\"\n",
        "\n",
        "occur=input_str.casefold().count('india') #casefold for ignoring case sensitive\n",
        "\n",
        "print(\"The number of occurences of 'india' in the given string is  \" + str(occur))"
      ],
      "execution_count": 33,
      "outputs": [
        {
          "output_type": "stream",
          "text": [
            "The number of occurences of 'india' in the given string is  2\n"
          ],
          "name": "stdout"
        }
      ]
    },
    {
      "cell_type": "markdown",
      "metadata": {
        "id": "KhxYMZ52VskX"
      },
      "source": [
        "**10. Replace first two ‘l’ with ‘n’ in ‘Hello World'**"
      ]
    },
    {
      "cell_type": "code",
      "metadata": {
        "colab": {
          "base_uri": "https://localhost:8080/"
        },
        "id": "uTLWZr2mV4q4",
        "outputId": "0f83bc79-505f-4394-da55-0da4f9faa15d"
      },
      "source": [
        "Original_String= 'Hello World'\n",
        "\n",
        "Replacing_String= Original_String.replace('l','n',2)  #to replace only 2 letters\n",
        "print(Replacing_String)"
      ],
      "execution_count": 35,
      "outputs": [
        {
          "output_type": "stream",
          "text": [
            "Henno World\n"
          ],
          "name": "stdout"
        }
      ]
    },
    {
      "cell_type": "markdown",
      "metadata": {
        "id": "_BjiDveyckqW"
      },
      "source": [
        "**11. Write a program that takes your full name as input and\n",
        "displays the abbreviations of the first and middle names\n",
        "except the last name which is displayed as it is. For\n",
        "example, if your name is Robert Brett Roser, then the\n",
        "output should be R.B.Roser.**"
      ]
    },
    {
      "cell_type": "code",
      "metadata": {
        "colab": {
          "base_uri": "https://localhost:8080/"
        },
        "id": "pGdfs7Nzc6NW",
        "outputId": "0436db5d-a7b2-4298-b557-b872982f866d"
      },
      "source": [
        "str=input(\"Enter a name:\")\n",
        "\n",
        "list1=str.split(\" \")\n",
        "\n",
        "print(list1[0][0],list1[1][0],list1[2])\n",
        "print(list1[0][0]+\".\"+list1[1][0]+\".\"+list1[2])"
      ],
      "execution_count": 39,
      "outputs": [
        {
          "output_type": "stream",
          "text": [
            "Enter a name:Robert Brett Roser\n",
            "R B Roser\n",
            "R.B.Roser\n"
          ],
          "name": "stdout"
        }
      ]
    },
    {
      "cell_type": "markdown",
      "metadata": {
        "id": "GVXfiIHwsB0n"
      },
      "source": [
        "**12. Write a program to check if a given string is a\n",
        "Palindrome.\n",
        "A palindrome reads the same from front and back e.g.-\n",
        "aba, ccaacc, mom, etc.**"
      ]
    },
    {
      "cell_type": "code",
      "metadata": {
        "colab": {
          "base_uri": "https://localhost:8080/"
        },
        "id": "4MlQfY_psK5w",
        "outputId": "de0614b9-83ec-4f14-ec30-9c0dcba1cff6"
      },
      "source": [
        "User_Input=input(\"Enter a string \\n\")\n",
        "User_Input=User_Input.casefold()\n",
        "\n",
        "Reverse_String=reversed(User_Input)\n",
        "\n",
        "if (list(User_Input) == list(Reverse_String)):\n",
        "  print(\"The string is a palindrome\")\n",
        "else:\n",
        "  print(\"The string is not a palindrome\")\n"
      ],
      "execution_count": 46,
      "outputs": [
        {
          "output_type": "stream",
          "text": [
            "Enter a string \n",
            "Mom\n",
            "The string is a palindrome\n"
          ],
          "name": "stdout"
        }
      ]
    }
  ]
}