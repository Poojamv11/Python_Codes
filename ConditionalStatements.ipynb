{
  "nbformat": 4,
  "nbformat_minor": 0,
  "metadata": {
    "colab": {
      "name": "ConditionalStatements.ipynb",
      "provenance": [],
      "collapsed_sections": []
    },
    "kernelspec": {
      "name": "python3",
      "display_name": "Python 3"
    }
  },
  "cells": [
    {
      "cell_type": "markdown",
      "metadata": {
        "id": "IamoTi_8RH0A"
      },
      "source": [
        "**1. Take two integer values from the user and print greatest\n",
        "among them.**"
      ]
    },
    {
      "cell_type": "code",
      "metadata": {
        "colab": {
          "base_uri": "https://localhost:8080/"
        },
        "id": "4AnJmXkiRU5D",
        "outputId": "9fbed797-c01c-4097-f382-f7cbe1efb17b"
      },
      "source": [
        "n1=int(input(\"Enter an integer value: \"))\n",
        "n2=int(input(\"Enter another integer value: \"))\n",
        "if n1>n2:\n",
        "  print(\"The greater value is n1: \",n1)\n",
        "else:\n",
        "  print(\"The greater value is n2: \",n2)"
      ],
      "execution_count": null,
      "outputs": [
        {
          "output_type": "stream",
          "text": [
            "Enter an integer value: 25\n",
            "Enter another integer value: 22\n",
            "The greater value is n1:  25\n"
          ],
          "name": "stdout"
        }
      ]
    },
    {
      "cell_type": "markdown",
      "metadata": {
        "id": "sW9nA4JGSZ9R"
      },
      "source": [
        "**2. Write a program that reads an integer from the user. Then\n",
        "your program should display a message indicating\n",
        "whether the integer is even or odd.**"
      ]
    },
    {
      "cell_type": "code",
      "metadata": {
        "colab": {
          "base_uri": "https://localhost:8080/"
        },
        "id": "xvScPC4tSexO",
        "outputId": "5f13afe3-4eea-4bf1-967f-c810dbedf6e3"
      },
      "source": [
        "num=int(input(\"Enter an integer: \"))\n",
        "if num%2 == 0:\n",
        "  print(f\"The integer value {num} is even\")\n",
        "else:\n",
        "  print(f\"The integer value {num} is odd\")"
      ],
      "execution_count": null,
      "outputs": [
        {
          "output_type": "stream",
          "text": [
            "Enter an integer: 26\n",
            "The integer value 26 is even\n"
          ],
          "name": "stdout"
        }
      ]
    },
    {
      "cell_type": "markdown",
      "metadata": {
        "id": "KGiHSYuAUy4i"
      },
      "source": [
        "**3. Create a program that reads a letter of the alphabet from\n",
        "the user. If the user enters a, e, i, o or u then your program\n",
        "should display a message indicating that the entered letter is\n",
        "a vowel. If the user enters y then your program should\n",
        "display a message indicating that sometimes y is a vowel,\n",
        "and sometimes y is a consonant. Otherwise your program\n",
        "should display a message indicating that the letter is a\n",
        "consonant.**"
      ]
    },
    {
      "cell_type": "code",
      "metadata": {
        "colab": {
          "base_uri": "https://localhost:8080/"
        },
        "id": "DBoQLP2AU5QI",
        "outputId": "deadf849-58de-42c2-ad3a-faf78ae8dc8e"
      },
      "source": [
        "char=input(\"Enter a letter from the alphabets: \")\n",
        "if char in ('a','e','i','o','u'):\n",
        "  print(f\"The letter {char} is a vowel\")\n",
        "elif char == 'y':\n",
        "  print(f\"sometimes {char} is a vowel, and sometimes {char} is a consonant\")\n",
        "else:\n",
        "  print(f\"The letter {char} is a consonant\")"
      ],
      "execution_count": null,
      "outputs": [
        {
          "output_type": "stream",
          "text": [
            "Enter a letter from the alphabets: p\n",
            "The letter p is a consonant\n"
          ],
          "name": "stdout"
        }
      ]
    },
    {
      "cell_type": "markdown",
      "metadata": {
        "id": "s2YBTldlyr53"
      },
      "source": [
        "**4. A triangle can be classified based on the lengths of its\r\n",
        "sides as equilateral, isosceles or scalene. All three sides of an\r\n",
        "equilateral triangle have the same length. An isosceles\r\n",
        "triangle has two sides that are the same length, and a third\r\n",
        "side that is a different length. If all of the sides have different\r\n",
        "lengths then the triangle is scalene. Write a program that\r\n",
        "reads the lengths of the three sides of a triangle from the user.\r\n",
        "Then display a message that states the triangle’s type.**"
      ]
    },
    {
      "cell_type": "code",
      "metadata": {
        "colab": {
          "base_uri": "https://localhost:8080/"
        },
        "id": "wL3CFdzOytHi",
        "outputId": "d627f0aa-d682-4b6e-fd32-d6913f58bc5a"
      },
      "source": [
        "print(\"Provide the lengths of the sides of triangle\")\r\n",
        "a=int(input(\"a: \"))\r\n",
        "b=int(input(\"b: \"))\r\n",
        "c=int(input(\"c: \"))\r\n",
        "\r\n",
        "if a==b==c:\r\n",
        "  print(\"All three sides are equal, hence an equilateral traingle\")\r\n",
        "elif a==b or b==c or c==a:\r\n",
        "  print(\"Only two sides of the triangle, hence an isoceles triangle\")\r\n",
        "else:\r\n",
        "  print(\"All three sides of the triangle are different, hence scalene triangle\")"
      ],
      "execution_count": null,
      "outputs": [
        {
          "output_type": "stream",
          "text": [
            "Provide the lengths of the sides of triangle\n",
            "a: 5\n",
            "b: 9\n",
            "c: 5\n",
            "Only two sides of the triangle, hence an isoceles triangle\n"
          ],
          "name": "stdout"
        }
      ]
    },
    {
      "cell_type": "markdown",
      "metadata": {
        "id": "5Qy5_QFz07Be"
      },
      "source": [
        "**5. Write a program that determines the name of a shape\r\n",
        "from its number of sides. Read the number of sides from the\r\n",
        "user and then report the appropriate name as part of a\r\n",
        "meaningful message. Your program should support shapes\r\n",
        "with anywhere from 3 up to (and including) 10 sides. If a\r\n",
        "number of sides outside of this range is entered then your\r\n",
        "program should display an appropriate error message.**"
      ]
    },
    {
      "cell_type": "code",
      "metadata": {
        "colab": {
          "base_uri": "https://localhost:8080/"
        },
        "id": "4owNegmZ1CYt",
        "outputId": "eec87873-0aa1-4b3f-9bb8-4fe75938bc16"
      },
      "source": [
        "n=11\r\n",
        "for i in range(0,n):\r\n",
        "  ele=int(input(\"Enter the number of sides: \"))\r\n",
        "  if ele==1 or ele==2 or ele==11:\r\n",
        "    print(\"The number of sides is not supported by the program\")\r\n",
        "  elif ele==3:\r\n",
        "    print(\"Its a triangle\")\r\n",
        "  elif ele==4:\r\n",
        "    print(\"Its a quadrilateral\")\r\n",
        "  elif ele==5:\r\n",
        "    print(\"Its a pentagon\")\r\n",
        "  elif ele==6:\r\n",
        "    print(\"Its a hexagon\")\r\n",
        "  elif ele==7:\r\n",
        "    print(\"Its a heptagon\")\r\n",
        "  elif ele==8:\r\n",
        "    print(\"Its a octagon\")\r\n",
        "  elif ele==9:\r\n",
        "    print(\"Its a nanogan\")\r\n",
        "  elif ele==10:\r\n",
        "    print(\"Its a decagon\")\r\n",
        "  "
      ],
      "execution_count": null,
      "outputs": [
        {
          "output_type": "stream",
          "text": [
            "Enter the number of sides: 1\n",
            "The number of sides is not supported by the program\n",
            "Enter the number of sides: 2\n",
            "The number of sides is not supported by the program\n",
            "Enter the number of sides: 3\n",
            "Its a triangle\n",
            "Enter the number of sides: 4\n",
            "Its a quadrilateral\n",
            "Enter the number of sides: 5\n",
            "Its a pentagon\n",
            "Enter the number of sides: 6\n",
            "Its a hexagon\n",
            "Enter the number of sides: 7\n",
            "Its a heptagon\n",
            "Enter the number of sides: 8\n",
            "Its a octagon\n",
            "Enter the number of sides: 9\n",
            "Its a nanogan\n",
            "Enter the number of sides: 10\n",
            "Its a decagon\n",
            "Enter the number of sides: 11\n",
            "The number of sides is not supported by the program\n"
          ],
          "name": "stdout"
        }
      ]
    },
    {
      "cell_type": "markdown",
      "metadata": {
        "id": "iGUYfLSn9yS0"
      },
      "source": [
        "**6. A shop will give a discount of 10% if the cost of the\r\n",
        "purchased quantity is more than 1000. Ask the user for\r\n",
        "quantity, suppose, one unit will cost 100. Judge and print\r\n",
        "total cost for user.**"
      ]
    },
    {
      "cell_type": "code",
      "metadata": {
        "colab": {
          "base_uri": "https://localhost:8080/"
        },
        "id": "FlvZ73OO92kA",
        "outputId": "8f0b5d79-8e0d-46f4-e519-290fb9ac39db"
      },
      "source": [
        "price=int(input(\"Enter the price for one unit: \"))\r\n",
        "quantity=int(input(\"Enter the quantity required: \"))\r\n",
        "total_cost= price * quantity\r\n",
        "if total_cost > 1000:\r\n",
        "  print(\"A discount of 10% is applicable for your purchase\")\r\n",
        "  discount= total_cost * 10/100\r\n",
        "  total_cost= total_cost - discount\r\n",
        "\r\n",
        "print(\"The total amount to be payed after discount: \",total_cost)"
      ],
      "execution_count": null,
      "outputs": [
        {
          "output_type": "stream",
          "text": [
            "Enter the price for one unit: 100\n",
            "Enter the quantity required: 50\n",
            "A discount of 10% is applicable for your purchase\n",
            "The total amount to be payed after discount:  4500.0\n"
          ],
          "name": "stdout"
        }
      ]
    },
    {
      "cell_type": "markdown",
      "metadata": {
        "id": "ZNKBO8cCC_eA"
      },
      "source": [
        "**7. Take input of age of 3 people by user and determine\r\n",
        "oldest and youngest among them.**"
      ]
    },
    {
      "cell_type": "code",
      "metadata": {
        "colab": {
          "base_uri": "https://localhost:8080/"
        },
        "id": "2iUtlRfQDHQH",
        "outputId": "3e21ff35-48cb-4d60-b886-a4ca704d4b81"
      },
      "source": [
        "first=int(input(\"Enter the first age: \"))\r\n",
        "second=int(input(\"Enter the second age: \"))\r\n",
        "third=int(input(\"Enter the third age: \"))\r\n",
        "\r\n",
        "## For oldest\r\n",
        "if first > second and first > third:\r\n",
        "  print(\"The oldest is first\",first)\r\n",
        "elif second > first and second > third:\r\n",
        "  print(\"the oldest is second\",second)\r\n",
        "elif third > first and third > second:\r\n",
        "  print(\"the oldest is third\",third)\r\n",
        "else:\r\n",
        "  print(\"All are equal\")\r\n",
        "\r\n",
        "## For youngest\r\n",
        "if first < second and first < third:\r\n",
        "  print(\"The youngest is first\",first)\r\n",
        "elif second < first and second < third:\r\n",
        "  print(\"the youngest is second\",second)\r\n",
        "elif third < first and third < second:\r\n",
        "  print(\"the youngest is third\",third)\r\n"
      ],
      "execution_count": null,
      "outputs": [
        {
          "output_type": "stream",
          "text": [
            "Enter the first age: 2\n",
            "Enter the second age: 6\n",
            "Enter the third age: 8\n",
            "the oldest is third 8\n",
            "The youngest is first 2\n"
          ],
          "name": "stdout"
        }
      ]
    },
    {
      "cell_type": "markdown",
      "metadata": {
        "id": "bDHCPaG8e890"
      },
      "source": [
        "**8. A company decided to give a bonus of 5% to an employee\r\n",
        "if his/her year of service is more than 5 years. Ask user for\r\n",
        "their salary and year of service and print the net bonus\r\n",
        "amount.**"
      ]
    },
    {
      "cell_type": "code",
      "metadata": {
        "colab": {
          "base_uri": "https://localhost:8080/"
        },
        "id": "WcOqCIUXfDVz",
        "outputId": "f9d3b885-1886-4e1c-8f27-5799d0c1a327"
      },
      "source": [
        "salary=int(input(\"Enter the salary: \"))\r\n",
        "year_of_service=int(input(\"Enter years of service: \"))\r\n",
        "net_bonus_amount= salary * 0.05\r\n",
        "\r\n",
        "if year_of_service >= 5:\r\n",
        "  print(\"The net bonus amount of the employee is: \",net_bonus_amount)\r\n",
        "else:\r\n",
        "  print(\"No bonus amount given.\")"
      ],
      "execution_count": null,
      "outputs": [
        {
          "output_type": "stream",
          "text": [
            "Enter the salary: 300000\n",
            "Enter years of service: 5\n",
            "The net bonus amount of the employee is:  15000.0\n"
          ],
          "name": "stdout"
        }
      ]
    },
    {
      "cell_type": "markdown",
      "metadata": {
        "id": "8nt-5qYAmMDF"
      },
      "source": [
        "**9. Write a program to check if a year is leap year or not.\r\n",
        "If a year is divisible by 4 then it is leap year but if the year is\r\n",
        "a century year like 2000, 1900, 2100 then it must be divisible\r\n",
        "by 400.**"
      ]
    },
    {
      "cell_type": "code",
      "metadata": {
        "colab": {
          "base_uri": "https://localhost:8080/"
        },
        "id": "thr1exQ0ma_9",
        "outputId": "5fac288d-3774-4cc9-e7c5-aec576e4e852"
      },
      "source": [
        "year=int(input(\"Enter a year: \"))\r\n",
        "\r\n",
        "if (year % 4) == 0:\r\n",
        "   if (year % 100) == 0:\r\n",
        "       if (year % 400) == 0:\r\n",
        "           print(\"It is a leap year\")\r\n",
        "       else:\r\n",
        "           print(\"It is not a leap year\")\r\n",
        "   else:\r\n",
        "       print(\"It is a leap year\")\r\n",
        "else:\r\n",
        "   print(\"It is not a leap year\")"
      ],
      "execution_count": null,
      "outputs": [
        {
          "output_type": "stream",
          "text": [
            "Enter a year: 1995\n",
            "It is not a leap year\n"
          ],
          "name": "stdout"
        }
      ]
    },
    {
      "cell_type": "markdown",
      "metadata": {
        "id": "XtDngdn0Ho8B"
      },
      "source": [
        "**10. Accept d1 and d2 as input. First, check to see that they\r\n",
        "are in the proper range for dice. If not, print a message.\r\n",
        "Otherwise, determine the outcome if this is the come out roll.\r\n",
        "If the sum is 7 or 11, print the winner. If the sum is 2, 3 or\r\n",
        "12, print loser. Otherwise print the point.**"
      ]
    },
    {
      "cell_type": "code",
      "metadata": {
        "id": "e0rqxaIdH_Ut",
        "colab": {
          "base_uri": "https://localhost:8080/"
        },
        "outputId": "6983865b-05bb-4b01-e6f9-f431fe40c169"
      },
      "source": [
        "import random\r\n",
        "input(\"Roll the dice\")\r\n",
        "d1=random.randrange(1,6)\r\n",
        "d2=random.randrange(1,6)\r\n",
        "sum=d1+d2\r\n",
        "print(\"The sum of d1 and d2: \",sum)\r\n",
        "\r\n",
        "if sum == 7 or sum == 11:\r\n",
        "  print(\"You won\")\r\n",
        "elif sum == 2 or sum == 3 or sum == 12:\r\n",
        "  print(\"You lose\")\r\n",
        "else:\r\n",
        "  print(\"Its a point\")"
      ],
      "execution_count": null,
      "outputs": [
        {
          "output_type": "stream",
          "text": [
            "Roll the dice\n",
            "The sum of d1 and d2:  10\n",
            "Its a point\n"
          ],
          "name": "stdout"
        }
      ]
    },
    {
      "cell_type": "markdown",
      "metadata": {
        "id": "Ko7y7ARDNFlC"
      },
      "source": [
        "**11. Write a python program to display the number of days in\r\n",
        "a month name from the given list of months or month\r\n",
        "number entered by user.**"
      ]
    },
    {
      "cell_type": "code",
      "metadata": {
        "id": "ldV6eLvFNLSY",
        "colab": {
          "base_uri": "https://localhost:8080/"
        },
        "outputId": "ccb37e85-0779-49c5-f9b4-4976b88ecf09"
      },
      "source": [
        "month=input(\"Enter a month: \")\r\n",
        "\r\n",
        "if month in (\"January\", \"March\", \"May\", \"July\", \"August\", \"October\", \"December\"):\r\n",
        "  print(f\"The number of days in month {month} is 31\")\r\n",
        "elif month in (\"April\", \"June\", \"September\", \"November\"):\r\n",
        "  print(f\"The number of days in month {month} is 30\")\r\n",
        "elif month == 'February':\r\n",
        "  print(f\"The number of days in month {month} is 28/29\")\r\n",
        "else:\r\n",
        "  print(\"Wrong month name entered\")"
      ],
      "execution_count": null,
      "outputs": [
        {
          "output_type": "stream",
          "text": [
            "Enter a month: May\n",
            "The number of days in month May is 31\n"
          ],
          "name": "stdout"
        }
      ]
    },
    {
      "cell_type": "markdown",
      "metadata": {
        "id": "KQ08Xz42NMB-"
      },
      "source": [
        "**12. Write a Python program to get next day of a given date.**"
      ]
    },
    {
      "cell_type": "code",
      "metadata": {
        "id": "rtPq_nnRNRbo",
        "colab": {
          "base_uri": "https://localhost:8080/"
        },
        "outputId": "3450ac1d-c192-42b8-b264-65f3fd000791"
      },
      "source": [
        "year = int(input(\"Input a year: \"))\r\n",
        "month = int(input(\"Input a month [1-12]: \"))\r\n",
        "day = int(input(\"Input a day [1-31]: \"))\r\n",
        "\r\n",
        "print(\"-----------------------\")\r\n",
        "## For year\r\n",
        "if (year % 400 == 0) or (year % 4 == 0):\r\n",
        "  print(\"This is a leap year\")\r\n",
        "elif (year % 100 == 0):\r\n",
        "  print(\"This is not a leap year\")\r\n",
        "else:\r\n",
        "    leap_year = False\r\n",
        "\r\n",
        "## For month\r\n",
        "if month in (1, 3, 5, 7, 8, 10, 12):\r\n",
        "  month_length = 31\r\n",
        "  print(f\"It has 31 days in {month} month\")\r\n",
        "elif month == 2:\r\n",
        "  if leap_year:\r\n",
        "    month_length = 29\r\n",
        "    print(f\"It has 29 days in {month} month\")\r\n",
        "  else:\r\n",
        "    month_length = 28\r\n",
        "    print(f\"It has 28 days in {month} month\")\r\n",
        "else:\r\n",
        "  month_length = 30\r\n",
        "  print(f\"It has 30 days in {month} month\")\r\n",
        "\r\n",
        "## For day\r\n",
        "if day < month_length:\r\n",
        "  day += 1\r\n",
        "else:\r\n",
        "  day = 1\r\n",
        "  if month == 12:\r\n",
        "    month = 1\r\n",
        "    year += 1\r\n",
        "  else:\r\n",
        "    month += 1\r\n",
        "\r\n",
        "print(\"The next date is [yyyy-mm-dd]:  %d-%d-%d \" % (year, month, day))\r\n"
      ],
      "execution_count": 4,
      "outputs": [
        {
          "output_type": "stream",
          "text": [
            "Input a year: 2020\n",
            "Input a month [1-12]: 12\n",
            "Input a day [1-31]: 13\n",
            "-----------------------\n",
            "This is a leap year\n",
            "It has 31 days in 12 month\n",
            "The next date is [yyyy-mm-dd]:  2020-12-14 \n"
          ],
          "name": "stdout"
        }
      ]
    }
  ]
}