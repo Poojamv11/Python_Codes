{
  "nbformat": 4,
  "nbformat_minor": 0,
  "metadata": {
    "colab": {
      "name": "Numpy.ipynb",
      "provenance": []
    },
    "kernelspec": {
      "name": "python3",
      "display_name": "Python 3"
    }
  },
  "cells": [
    {
      "cell_type": "markdown",
      "metadata": {
        "id": "ngQlYpC4G4bP"
      },
      "source": [
        "**1. Create a 5X2 integer array from a range between 100 to\r\n",
        "200 such that the difference between each element is 10.**"
      ]
    },
    {
      "cell_type": "code",
      "metadata": {
        "colab": {
          "base_uri": "https://localhost:8080/"
        },
        "id": "slUH0zG1HNYc",
        "outputId": "aceb8e39-5848-45d5-b8fb-15613f1c162f"
      },
      "source": [
        "import numpy as np\r\n",
        "\r\n",
        "ar = np.arange(100, 200, 10)\r\n",
        "ar = ar.reshape(5, 2)\r\n",
        "ar"
      ],
      "execution_count": 1,
      "outputs": [
        {
          "output_type": "execute_result",
          "data": {
            "text/plain": [
              "array([[100, 110],\n",
              "       [120, 130],\n",
              "       [140, 150],\n",
              "       [160, 170],\n",
              "       [180, 190]])"
            ]
          },
          "metadata": {
            "tags": []
          },
          "execution_count": 1
        }
      ]
    },
    {
      "cell_type": "markdown",
      "metadata": {
        "id": "GVa9Z9aHYGvc"
      },
      "source": [
        "**2. Write a NumPy program to create a 3x3x3 array filled\r\n",
        "with arbitrary values and find the minimum and maximum\r\n",
        "values.**"
      ]
    },
    {
      "cell_type": "code",
      "metadata": {
        "colab": {
          "base_uri": "https://localhost:8080/"
        },
        "id": "QOpDFt0wYSq5",
        "outputId": "963b0936-5a8d-4137-ddc6-bf505dd6daae"
      },
      "source": [
        "x = np.random.random((3, 3, 3))\r\n",
        "print(\"An array of 3x3x3:\\n\",x,\"\\n\")\r\n",
        "print(\"The minimum value is: \",x.min())\r\n",
        "print(\"The maximum value is: \",x.max())"
      ],
      "execution_count": null,
      "outputs": [
        {
          "output_type": "stream",
          "text": [
            "An array of 3x3x3:\n",
            " [[[0.20741628 0.52259066 0.56855003]\n",
            "  [0.22537112 0.02095465 0.27247042]\n",
            "  [0.09314534 0.38009788 0.23270571]]\n",
            "\n",
            " [[0.0109948  0.56328114 0.81900748]\n",
            "  [0.76526211 0.38670471 0.9756617 ]\n",
            "  [0.24903584 0.36827808 0.02418595]]\n",
            "\n",
            " [[0.0721782  0.72779779 0.98439767]\n",
            "  [0.83023593 0.28946173 0.07292808]\n",
            "  [0.45758933 0.88910838 0.38884385]]] \n",
            "\n",
            "The minimum value is:  0.010994799067693406\n",
            "The maximum value is:  0.984397666477375\n"
          ],
          "name": "stdout"
        }
      ]
    },
    {
      "cell_type": "markdown",
      "metadata": {
        "id": "ORhOiVyOarXR"
      },
      "source": [
        "**3. Write a NumPy program to create a 5x5 zero matrix\r\n",
        "with elements on the main diagonal equal to 1, 2, 3, 4, 5.**"
      ]
    },
    {
      "cell_type": "code",
      "metadata": {
        "id": "tPOVbx8KbKor",
        "colab": {
          "base_uri": "https://localhost:8080/"
        },
        "outputId": "bd2c42d0-963f-4d79-da46-b56a7a5c6c31"
      },
      "source": [
        "x = np.diag([1, 2, 3, 4, 5])\r\n",
        "x"
      ],
      "execution_count": 15,
      "outputs": [
        {
          "output_type": "execute_result",
          "data": {
            "text/plain": [
              "array([[1, 0, 0, 0, 0],\n",
              "       [0, 2, 0, 0, 0],\n",
              "       [0, 0, 3, 0, 0],\n",
              "       [0, 0, 0, 4, 0],\n",
              "       [0, 0, 0, 0, 5]])"
            ]
          },
          "metadata": {
            "tags": []
          },
          "execution_count": 15
        }
      ]
    },
    {
      "cell_type": "markdown",
      "metadata": {
        "id": "ay8AG5G5kmom"
      },
      "source": [
        "**4. Given an array**\r\n",
        "\r\n",
        "**arr = np.array([0, 1, 2, 3, 4, 5, 6, 7, 8, 9])**\r\n",
        "\r\n",
        "**i) Extract all odd numbers from arr**\r\n",
        "\r\n",
        "**ii) Replace all odd numbers in arr with -1**"
      ]
    },
    {
      "cell_type": "code",
      "metadata": {
        "colab": {
          "base_uri": "https://localhost:8080/"
        },
        "id": "69zkCs5Dl_Yz",
        "outputId": "c760740c-73f7-40c7-f0f2-b6e43f29d5fe"
      },
      "source": [
        "arr = np.array([0, 1, 2, 3, 4, 5, 6, 7, 8, 9])\r\n",
        "print(\"Given array:\",arr)\r\n",
        "\r\n",
        "## i) Extract all odd numbers from arr\r\n",
        "a = arr[arr%2 == 1]\r\n",
        "print(\"Extracting all odd numbers from above array: \",a)\r\n",
        "\r\n",
        "## ii) Replace all odd numbers in arr with -1\r\n",
        "arr[arr%2 == 1] = -1\r\n",
        "print(\"Replacing all odd numbers to -1 from above array:\",arr)"
      ],
      "execution_count": 25,
      "outputs": [
        {
          "output_type": "stream",
          "text": [
            "Given array: [0 1 2 3 4 5 6 7 8 9]\n",
            "Extracting all odd numbers from above array:  [1 3 5 7 9]\n",
            "Replacing all odd numbers to -1 from above array: [ 0 -1  2 -1  4 -1  6 -1  8 -1]\n"
          ],
          "name": "stdout"
        }
      ]
    },
    {
      "cell_type": "markdown",
      "metadata": {
        "id": "cggDKoXcpdsH"
      },
      "source": [
        "**5. Write a NumPy program to create a 3x3 identity matrix,\r\n",
        "i.e. diagonal elements are 1,the rest are 0.**"
      ]
    },
    {
      "cell_type": "code",
      "metadata": {
        "colab": {
          "base_uri": "https://localhost:8080/"
        },
        "id": "RROLRYE3plg_",
        "outputId": "e351a6fd-119e-4ea5-bdfb-f4b2c2473c7b"
      },
      "source": [
        "x = np.diag([1, 1, 1])\r\n",
        "x"
      ],
      "execution_count": 26,
      "outputs": [
        {
          "output_type": "execute_result",
          "data": {
            "text/plain": [
              "array([[1, 0, 0],\n",
              "       [0, 1, 0],\n",
              "       [0, 0, 1]])"
            ]
          },
          "metadata": {
            "tags": []
          },
          "execution_count": 26
        }
      ]
    },
    {
      "cell_type": "markdown",
      "metadata": {
        "id": "3hsl5nLbEhnk"
      },
      "source": [
        "**6. Write a NumPy program to convert an array to a float\r\n",
        "type.**"
      ]
    },
    {
      "cell_type": "code",
      "metadata": {
        "colab": {
          "base_uri": "https://localhost:8080/"
        },
        "id": "3W-kPopcErNM",
        "outputId": "d29eeba3-0940-49d3-bdcc-3ea16064e858"
      },
      "source": [
        "b = [1, 2, 3, 4, 5, 6, 7]\r\n",
        "print(\"The original array:\",b)\r\n",
        "print(\"Converting the array to float type.............\")\r\n",
        "x = np.asfarray(b)\r\n",
        "print(\"The float type array:\",x)"
      ],
      "execution_count": 28,
      "outputs": [
        {
          "output_type": "stream",
          "text": [
            "The original array: [1, 2, 3, 4, 5, 6, 7]\n",
            "Converting the array to float type.............\n",
            "The float type array: [1. 2. 3. 4. 5. 6. 7.]\n"
          ],
          "name": "stdout"
        }
      ]
    },
    {
      "cell_type": "markdown",
      "metadata": {
        "id": "1N0_HPBGGbCV"
      },
      "source": [
        "**7. Write a NumPy program to generate five random\r\n",
        "numbers from the normal distribution.**"
      ]
    },
    {
      "cell_type": "code",
      "metadata": {
        "colab": {
          "base_uri": "https://localhost:8080/"
        },
        "id": "6Ia36CyyGfxt",
        "outputId": "e5cacdbe-346d-4ca0-e3e3-6bf7b164bcbd"
      },
      "source": [
        "x = np.random.normal(size=5)\r\n",
        "x"
      ],
      "execution_count": 31,
      "outputs": [
        {
          "output_type": "execute_result",
          "data": {
            "text/plain": [
              "array([-0.59351826,  0.78086317,  0.49359356, -0.2627222 , -0.39819618])"
            ]
          },
          "metadata": {
            "tags": []
          },
          "execution_count": 31
        }
      ]
    },
    {
      "cell_type": "markdown",
      "metadata": {
        "id": "MdyRp_PQJtin"
      },
      "source": [
        "**8. Following is the input NumPy array delete column two\r\n",
        "and insert following new column in its place.**\r\n",
        "\r\n",
        "**sampleArray=numpy.array([[34,43,73],[82,22,12],[53,94,\r\n",
        "66]])**\r\n",
        "\r\n",
        "**newColumn = numpy.array([[10,10,10]])**"
      ]
    },
    {
      "cell_type": "code",
      "metadata": {
        "colab": {
          "base_uri": "https://localhost:8080/"
        },
        "id": "l9toho06J-Iy",
        "outputId": "544f5987-0da4-4d1b-9258-46ca63bcc1a6"
      },
      "source": [
        "sampleArray=np.array([[34,43,73],[82,22,12],[53,94, 66]])\r\n",
        "print(\"The original array:\\n\",sampleArray)\r\n",
        "\r\n",
        "##deleting column two\r\n",
        "z = np.delete(sampleArray,1,1)\r\n",
        "print(\"Deleting column two from above array:\\n\",z)\r\n",
        "\r\n",
        "##adding new elements to column two\r\n",
        "newColumn = np.array([[10,10,10]])\r\n",
        "y = np.insert(z, 1, newColumn, axis=1)  ## adding values before index 1\r\n",
        "print(\"Adding new elements to above array as second column:\\n\",y)"
      ],
      "execution_count": 59,
      "outputs": [
        {
          "output_type": "stream",
          "text": [
            "The original array:\n",
            " [[34 43 73]\n",
            " [82 22 12]\n",
            " [53 94 66]]\n",
            "Deleting column two from above array:\n",
            " [[34 73]\n",
            " [82 12]\n",
            " [53 66]]\n",
            "Adding new elements to above array as second column:\n",
            " [[34 10 73]\n",
            " [82 10 12]\n",
            " [53 10 66]]\n"
          ],
          "name": "stdout"
        }
      ]
    },
    {
      "cell_type": "markdown",
      "metadata": {
        "id": "a548mYmmSBZT"
      },
      "source": [
        "**9. Write a NumPy program to compute the multiplication\r\n",
        "of two given matrices.**"
      ]
    },
    {
      "cell_type": "code",
      "metadata": {
        "colab": {
          "base_uri": "https://localhost:8080/"
        },
        "id": "vx7tdccHSGrk",
        "outputId": "d515d8ca-e68d-49e8-b04f-edfc53c2f4a6"
      },
      "source": [
        "a = [[1, 2], [2, 4]]\r\n",
        "b = [[2, 1], [4, 5]]\r\n",
        "print(a)\r\n",
        "print(b)\r\n",
        "\r\n",
        "mul = np.dot(a, b)\r\n",
        "print(\"Multiplying the above two matrices \\n\",mul)"
      ],
      "execution_count": 61,
      "outputs": [
        {
          "output_type": "stream",
          "text": [
            "[[1, 2], [2, 4]]\n",
            "[[2, 1], [4, 5]]\n",
            "Multiplying the above two matrices \n",
            " [[10 11]\n",
            " [20 22]]\n"
          ],
          "name": "stdout"
        }
      ]
    },
    {
      "cell_type": "markdown",
      "metadata": {
        "id": "5SvyP0KyTT-r"
      },
      "source": [
        "**10. Write a NumPy program to create a random vector of\r\n",
        "size 10 and sort it.**"
      ]
    },
    {
      "cell_type": "code",
      "metadata": {
        "colab": {
          "base_uri": "https://localhost:8080/"
        },
        "id": "2W-cLn4pTbEn",
        "outputId": "826a3f4b-5ba9-421b-bc77-8fff8f0d8e23"
      },
      "source": [
        "x = np.random.random(10)\r\n",
        "print(\"The original array:\\n\",x)\r\n",
        "print(\"\\n\")\r\n",
        "x.sort()\r\n",
        "print(\"The sorted array:\\n\",x)"
      ],
      "execution_count": 67,
      "outputs": [
        {
          "output_type": "stream",
          "text": [
            "The original array:\n",
            " [0.03827824 0.69205032 0.32393982 0.14483215 0.01903044 0.69433647\n",
            " 0.29353185 0.85700492 0.41968123 0.48205207]\n",
            "\n",
            "\n",
            "The sorted array:\n",
            " [0.01903044 0.03827824 0.14483215 0.29353185 0.32393982 0.41968123\n",
            " 0.48205207 0.69205032 0.69433647 0.85700492]\n"
          ],
          "name": "stdout"
        }
      ]
    },
    {
      "cell_type": "markdown",
      "metadata": {
        "id": "znvVHqUjWek8"
      },
      "source": [
        "**11. Write a NumPy program to compute the covariance\r\n",
        "matrix of two arrays.**"
      ]
    },
    {
      "cell_type": "code",
      "metadata": {
        "colab": {
          "base_uri": "https://localhost:8080/"
        },
        "id": "zp2-sCTZWh3W",
        "outputId": "356b3524-373c-4353-8591-aa3ead5ef29f"
      },
      "source": [
        "a = np.array([0, 1, 2])\r\n",
        "b = np.array([4, 5, 6])\r\n",
        "print(a)\r\n",
        "print(b)\r\n",
        "\r\n",
        "print(\"The covariance of above two matrices:\\n\",np.cov(a,b))"
      ],
      "execution_count": 70,
      "outputs": [
        {
          "output_type": "stream",
          "text": [
            "[0 1 2]\n",
            "[4 5 6]\n",
            "The covariance of above two matrices:\n",
            " [[1. 1.]\n",
            " [1. 1.]]\n"
          ],
          "name": "stdout"
        }
      ]
    },
    {
      "cell_type": "markdown",
      "metadata": {
        "id": "pRvoJwimYlxa"
      },
      "source": [
        "**12.Create a 4X2 integer array and Prints its :**\r\n",
        "\r\n",
        "**i)The shape of an array.**\r\n",
        "\r\n",
        "**ii) Array dimensions.**\r\n",
        "\r\n",
        "**iii) The Length of each element of the array in bytes**"
      ]
    },
    {
      "cell_type": "code",
      "metadata": {
        "colab": {
          "base_uri": "https://localhost:8080/"
        },
        "id": "HUF0jOxyYwZu",
        "outputId": "2a2d7318-e3a4-4b1b-8ac0-f72fdefb9983"
      },
      "source": [
        "a = np.arange(8).reshape(4,2)\r\n",
        "print(\"The 4x2 array:\\n\",a)\r\n",
        "\r\n",
        "## i)The shape of an array.\r\n",
        "print(\"The shape of the array:\\n\",a.shape)\r\n",
        "\r\n",
        "## ii) Array dimensions.\r\n",
        "print(\"Array dimensions:\\n\",a.size)\r\n",
        "\r\n",
        "## iii) The Length of each element of the array in bytes\r\n",
        "print(\"The Length of each element of the array in bytes:\\n\",a.nbytes)"
      ],
      "execution_count": 78,
      "outputs": [
        {
          "output_type": "stream",
          "text": [
            "The 4x2 array:\n",
            " [[0 1]\n",
            " [2 3]\n",
            " [4 5]\n",
            " [6 7]]\n",
            "The shape of the array:\n",
            " (4, 2)\n",
            "Array dimensions:\n",
            " 8\n",
            "The Length of each element of the array in bytes:\n",
            " 64\n"
          ],
          "name": "stdout"
        }
      ]
    },
    {
      "cell_type": "markdown",
      "metadata": {
        "id": "pBjsowhibiNM"
      },
      "source": [
        "**13. Write a NumPy program to concatenate element-wise\r\n",
        "two arrays of string.**"
      ]
    },
    {
      "cell_type": "code",
      "metadata": {
        "colab": {
          "base_uri": "https://localhost:8080/"
        },
        "id": "vXFvB8_FblFQ",
        "outputId": "a43377f6-348d-4968-f420-4e4cfa8cc979"
      },
      "source": [
        "a1 = np.array(['Hi', 'Good'])\r\n",
        "a2 = np.array([' All', ' Morning'])\r\n",
        "print(a1)\r\n",
        "print(a2)\r\n",
        "\r\n",
        "new = np.char.add(a1, a2)\r\n",
        "print(\"The result of concatenation:\\n\",new)"
      ],
      "execution_count": 8,
      "outputs": [
        {
          "output_type": "stream",
          "text": [
            "['Hi' 'Good']\n",
            "[' All' ' Morning']\n",
            "The result of concatenation:\n",
            " ['Hi All' 'Good Morning']\n"
          ],
          "name": "stdout"
        }
      ]
    },
    {
      "cell_type": "markdown",
      "metadata": {
        "id": "iOWlXslR92W8"
      },
      "source": [
        "**14. Write a NumPy program to capitalize the first letter,\r\n",
        "lowercase, uppercase, swapcase, title-case of all the\r\n",
        "elements of a given array.**"
      ]
    },
    {
      "cell_type": "code",
      "metadata": {
        "colab": {
          "base_uri": "https://localhost:8080/"
        },
        "id": "sRoLtTES_1fo",
        "outputId": "16d4b973-adcf-4e85-a381-4b6c1ed67403"
      },
      "source": [
        "a = np.array(['APple', 'oranGE', 'cHErry', 'maNGo'])\r\n",
        "print(\"The given array:\\n\",a)\r\n",
        "\r\n",
        "cap = np.char.capitalize(a)\r\n",
        "low = np.char.lower(a)\r\n",
        "up = np.char.upper(a)\r\n",
        "swap = np.char.swapcase(a)\r\n",
        "tc = np.char.title(a)\r\n",
        "\r\n",
        "print(\"Capitalize: \", cap)\r\n",
        "print(\"Lowercase: \", low)\r\n",
        "print(\"Uppercase: \", up)\r\n",
        "print(\"Swapcase: \", swap)\r\n",
        "print(\"Titlecase: \", tc)"
      ],
      "execution_count": 21,
      "outputs": [
        {
          "output_type": "stream",
          "text": [
            "The given array:\n",
            " ['APple' 'oranGE' 'cHErry' 'maNGo']\n",
            "Capitalize:  ['Apple' 'Orange' 'Cherry' 'Mango']\n",
            "Lowercase:  ['apple' 'orange' 'cherry' 'mango']\n",
            "Uppercase:  ['APPLE' 'ORANGE' 'CHERRY' 'MANGO']\n",
            "Swapcase:  ['apPLE' 'ORANge' 'CheRRY' 'MAngO']\n",
            "Titlecase:  ['Apple' 'Orange' 'Cherry' 'Mango']\n"
          ],
          "name": "stdout"
        }
      ]
    },
    {
      "cell_type": "markdown",
      "metadata": {
        "id": "8Q8vRiEHDh_x"
      },
      "source": [
        "**15. Write a NumPy program to convert a given array into\r\n",
        "a list.**"
      ]
    },
    {
      "cell_type": "code",
      "metadata": {
        "colab": {
          "base_uri": "https://localhost:8080/"
        },
        "id": "LHVqhM6zDoiJ",
        "outputId": "fe7a3547-85d0-4683-e57a-216b8f1dda33"
      },
      "source": [
        "a = np.array([[34,43,73],[82,22,12],[53,94,66]])\r\n",
        "print(a)\r\n",
        "\r\n",
        "l = a.tolist()\r\n",
        "print(\"Converting array to list:\\n\",l)"
      ],
      "execution_count": 27,
      "outputs": [
        {
          "output_type": "stream",
          "text": [
            "[[34 43 73]\n",
            " [82 22 12]\n",
            " [53 94 66]]\n",
            "Converting array to list:\n",
            " [[34, 43, 73], [82, 22, 12], [53, 94, 66]]\n"
          ],
          "name": "stdout"
        }
      ]
    },
    {
      "cell_type": "markdown",
      "metadata": {
        "id": "iMofKxdJE6pK"
      },
      "source": [
        "**16. Write a NumPy program to compute the sum of all\r\n",
        "elements, sum of each column and sum of each row of a\r\n",
        "given array.**"
      ]
    },
    {
      "cell_type": "code",
      "metadata": {
        "colab": {
          "base_uri": "https://localhost:8080/"
        },
        "id": "RA9UIMclE-Ig",
        "outputId": "2cc0d74b-7bf5-4529-cca6-f97166af34a9"
      },
      "source": [
        " a = np.array([[1, 2, 3],[4, 5, 6],[7, 8, 9]])\r\n",
        " print(a)\r\n",
        "\r\n",
        " print(\"Sum of all elements: \",np.sum(a))\r\n",
        " print(\"Sum of each column: \",np.sum(a, axis=0))\r\n",
        " print(\"Sum of each row: \",np.sum(a, axis=1))"
      ],
      "execution_count": 31,
      "outputs": [
        {
          "output_type": "stream",
          "text": [
            "[[1 2 3]\n",
            " [4 5 6]\n",
            " [7 8 9]]\n",
            "Sum of all elements:  45\n",
            "Sum of each column:  [12 15 18]\n",
            "Sum of each row:  [ 6 15 24]\n"
          ],
          "name": "stdout"
        }
      ]
    },
    {
      "cell_type": "markdown",
      "metadata": {
        "id": "a6apj4QuLbnL"
      },
      "source": [
        "**17. Write a NumPy program to create a random 10x4\r\n",
        "array and extract the first five rows of the array and store\r\n",
        "them into a variable.**"
      ]
    },
    {
      "cell_type": "code",
      "metadata": {
        "colab": {
          "base_uri": "https://localhost:8080/"
        },
        "id": "EwMbDwXrLfw9",
        "outputId": "22d0f72a-5f50-4f7c-a223-b98fe56e139f"
      },
      "source": [
        "z = np.random.random((10,4))\r\n",
        "print(z)\r\n",
        "\r\n",
        "five = z[:5,:]\r\n",
        "print(\"Extracting only the first five rows from above array:\\n\",five)"
      ],
      "execution_count": 34,
      "outputs": [
        {
          "output_type": "stream",
          "text": [
            "[[0.14751257 0.48748108 0.97329031 0.57844911]\n",
            " [0.07486231 0.38810849 0.71792846 0.75872317]\n",
            " [0.56325886 0.44864694 0.76918768 0.45313991]\n",
            " [0.69008052 0.2793244  0.55506001 0.84996601]\n",
            " [0.92380442 0.01816583 0.97764097 0.94170977]\n",
            " [0.35222481 0.49645613 0.0604836  0.71738307]\n",
            " [0.01333419 0.2949288  0.59180744 0.94688509]\n",
            " [0.30063597 0.49267299 0.54812825 0.16507056]\n",
            " [0.4870341  0.38481519 0.099628   0.83741439]\n",
            " [0.85107585 0.52046401 0.85676906 0.63859656]]\n",
            "Extracting only the first five rows from above array:\n",
            " [[0.14751257 0.48748108 0.97329031 0.57844911]\n",
            " [0.07486231 0.38810849 0.71792846 0.75872317]\n",
            " [0.56325886 0.44864694 0.76918768 0.45313991]\n",
            " [0.69008052 0.2793244  0.55506001 0.84996601]\n",
            " [0.92380442 0.01816583 0.97764097 0.94170977]]\n"
          ],
          "name": "stdout"
        }
      ]
    },
    {
      "cell_type": "markdown",
      "metadata": {
        "id": "RQJM7Y6RM5o6"
      },
      "source": [
        "**18. Write a NumPy program to get the unique elements of\r\n",
        "a 1D and 2D array.**"
      ]
    },
    {
      "cell_type": "code",
      "metadata": {
        "colab": {
          "base_uri": "https://localhost:8080/"
        },
        "id": "iMpb0OR6M-Sx",
        "outputId": "d0c2a77d-5482-4151-95c0-a931d7b1fac7"
      },
      "source": [
        "one = np.array([1, 2, 3, 3, 5, 6, 6])\r\n",
        "print(\"Elements of 1D array:\\n\",one)\r\n",
        "print(\"Unique elements of 1D array:\\n\",np.unique(one))\r\n",
        "print(\"\\n\")\r\n",
        "\r\n",
        "two = np.array([[1, 2, 2],[4, 4, 6],[7, 8, 8]])\r\n",
        "print(\"Elements of 2D array:\\n\",two)\r\n",
        "print(\"Unique elements of 2D array:\\n\",np.unique(two))"
      ],
      "execution_count": 37,
      "outputs": [
        {
          "output_type": "stream",
          "text": [
            "Elements of 1D array:\n",
            " [1 2 3 3 5 6 6]\n",
            "Unique elements of 1D array:\n",
            " [1 2 3 5 6]\n",
            "\n",
            "\n",
            "Elements of 2D array:\n",
            " [[1 2 2]\n",
            " [4 4 6]\n",
            " [7 8 8]]\n",
            "Unique elements of 2D array:\n",
            " [1 2 4 6 7 8]\n"
          ],
          "name": "stdout"
        }
      ]
    },
    {
      "cell_type": "markdown",
      "metadata": {
        "id": "UKL-KPYvOc05"
      },
      "source": [
        "**19. Write a NumPy program to get the unique elements of\r\n",
        "an array.**"
      ]
    },
    {
      "cell_type": "code",
      "metadata": {
        "colab": {
          "base_uri": "https://localhost:8080/"
        },
        "id": "LRoIFvmdOsaY",
        "outputId": "56ca95c3-c128-40d1-a5b2-98fcb6d35a1f"
      },
      "source": [
        "arr = [-10, 12.12, -0.2]\r\n",
        "print(\"Elements of an array:\\n\",arr)\r\n",
        "print(\"Unique elements of the array:\\n\",np.unique(arr))"
      ],
      "execution_count": 39,
      "outputs": [
        {
          "output_type": "stream",
          "text": [
            "Elements of an array:\n",
            " [-10, 12.12, -0.2]\n",
            "Unique elements of the array:\n",
            " [-10.    -0.2   12.12]\n"
          ],
          "name": "stdout"
        }
      ]
    },
    {
      "cell_type": "markdown",
      "metadata": {
        "id": "DEsD4sc0O4C9"
      },
      "source": [
        "**20. Write a NumPy program to save a given array to a text\r\n",
        "file and load it. You have to save and load file using\r\n",
        "numpy library.**"
      ]
    },
    {
      "cell_type": "code",
      "metadata": {
        "colab": {
          "base_uri": "https://localhost:8080/"
        },
        "id": "QQIlNPD6PBKr",
        "outputId": "d819d94f-eb4f-4a4a-faa8-fa145818349c"
      },
      "source": [
        "a = np.arange(16).reshape(4,4)\r\n",
        "print(a)\r\n",
        "\r\n",
        "np.savetxt(\"new.txt\", a)\r\n",
        "res = np.loadtxt(\"new.txt\")\r\n",
        "print(\"The text file:\\n\",res)"
      ],
      "execution_count": 42,
      "outputs": [
        {
          "output_type": "stream",
          "text": [
            "[[ 0  1  2  3]\n",
            " [ 4  5  6  7]\n",
            " [ 8  9 10 11]\n",
            " [12 13 14 15]]\n",
            "The text file:\n",
            " [[ 0.  1.  2.  3.]\n",
            " [ 4.  5.  6.  7.]\n",
            " [ 8.  9. 10. 11.]\n",
            " [12. 13. 14. 15.]]\n"
          ],
          "name": "stdout"
        }
      ]
    }
  ]
}