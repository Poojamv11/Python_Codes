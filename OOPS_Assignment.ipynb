{
  "nbformat": 4,
  "nbformat_minor": 0,
  "metadata": {
    "colab": {
      "name": "OOPS Assignment.ipynb",
      "provenance": [],
      "collapsed_sections": []
    },
    "kernelspec": {
      "name": "python3",
      "display_name": "Python 3"
    }
  },
  "cells": [
    {
      "cell_type": "markdown",
      "metadata": {
        "id": "uyw8b-Tpu9-t"
      },
      "source": [
        "**1. Create an empty class.**"
      ]
    },
    {
      "cell_type": "code",
      "metadata": {
        "colab": {
          "base_uri": "https://localhost:8080/"
        },
        "id": "Q3WcUx5bvgti",
        "outputId": "49d60cfa-ec12-4a83-ee32-65f73285378d"
      },
      "source": [
        "class mine:\r\n",
        "  pass\r\n",
        "\r\n",
        "m1 = mine()\r\n",
        "print(m1)\r\n",
        "\r\n",
        "m1.name = \"Pooja\"\r\n",
        "print(m1.name)"
      ],
      "execution_count": 2,
      "outputs": [
        {
          "output_type": "stream",
          "text": [
            "<__main__.mine object at 0x7fa839325e80>\n",
            "Pooja\n"
          ],
          "name": "stdout"
        }
      ]
    },
    {
      "cell_type": "code",
      "metadata": {
        "id": "maf2jeO1p7Ea"
      },
      "source": [
        "class Dog:\r\n",
        "  species = \"Canis familiaris\"\r\n",
        "\r\n",
        "  def __init__(self, name, age):\r\n",
        "    self.name = name\r\n",
        "    self.age = age\r\n",
        "    \r\n",
        "buddy = Dog(\"Buddy\", 9)\r\n",
        "miles = Dog(\"Miles\", 4)"
      ],
      "execution_count": 17,
      "outputs": []
    },
    {
      "cell_type": "markdown",
      "metadata": {
        "id": "1juauWPM05el"
      },
      "source": [
        "**2. Given the Dog class above retrieve the Object and class\r\n",
        "attributes.**"
      ]
    },
    {
      "cell_type": "code",
      "metadata": {
        "colab": {
          "base_uri": "https://localhost:8080/"
        },
        "id": "9FGc5GNX1kCi",
        "outputId": "aa4720e6-d9c9-4e6e-b4a9-f000bfdf8c12"
      },
      "source": [
        "print(Dog.species)\r\n",
        "print(buddy.name, buddy.age)\r\n",
        "print(miles.name, miles.age)"
      ],
      "execution_count": 16,
      "outputs": [
        {
          "output_type": "stream",
          "text": [
            "Canis familiaris\n",
            "Buddy 9\n",
            "Miles 4\n"
          ],
          "name": "stdout"
        }
      ]
    },
    {
      "cell_type": "markdown",
      "metadata": {
        "id": "CnaA6hVtvIeN"
      },
      "source": [
        "**3. Write a Python class named Circle constructed by a radius\r\n",
        "and two methods which will compute the area and the\r\n",
        "perimeter of a circle.**"
      ]
    },
    {
      "cell_type": "code",
      "metadata": {
        "colab": {
          "base_uri": "https://localhost:8080/"
        },
        "id": "Q8c44ZGJvLn0",
        "outputId": "c0f27523-97fd-4ef1-e1e5-1738a65ec22c"
      },
      "source": [
        "class Circle:\r\n",
        "  def __init__(self, r):\r\n",
        "    self.radius = r\r\n",
        "\r\n",
        "  def area(self):\r\n",
        "    return self.radius**2*3.14\r\n",
        "\r\n",
        "  def perimeter(self):\r\n",
        "    return 2*self.radius*3.14\r\n",
        "\r\n",
        "c1 = Circle(5)\r\n",
        "print(c1.area())\r\n",
        "print(c1.perimeter())"
      ],
      "execution_count": 1,
      "outputs": [
        {
          "output_type": "stream",
          "text": [
            "78.5\n",
            "31.400000000000002\n"
          ],
          "name": "stdout"
        }
      ]
    },
    {
      "cell_type": "markdown",
      "metadata": {
        "id": "V82Uxr32Ew9V"
      },
      "source": [
        "**4. Write a Python class to reverse a string word by word.\r\n",
        "For example:**\r\n",
        "\r\n",
        "**Input string : 'hello world'**\r\n",
        "\r\n",
        "**Expected Output : 'world hello'**"
      ]
    },
    {
      "cell_type": "code",
      "metadata": {
        "colab": {
          "base_uri": "https://localhost:8080/"
        },
        "id": "U0tPuEj5E8kE",
        "outputId": "bcfee329-80e4-4bbc-9d9b-9510451b8b73"
      },
      "source": [
        "class rev:\r\n",
        "  def words(self,s):\r\n",
        "    return ' '.join(reversed(s.split()))\r\n",
        "\r\n",
        "print(rev().words('hello world'))"
      ],
      "execution_count": 6,
      "outputs": [
        {
          "output_type": "stream",
          "text": [
            "world hello\n"
          ],
          "name": "stdout"
        }
      ]
    },
    {
      "cell_type": "markdown",
      "metadata": {
        "id": "-DqfLnCvGwXC"
      },
      "source": [
        "**5. Create a Student class and initialize it with name and roll\r\n",
        "number. Make methods to :**\r\n",
        "\r\n",
        "**i) Display - It should display all information of the student.**\r\n",
        "\r\n",
        "**ii)setAge - It should assign age to student**\r\n",
        "\r\n",
        "**iii) setMarks - It should assign marks to the student.**"
      ]
    },
    {
      "cell_type": "code",
      "metadata": {
        "colab": {
          "base_uri": "https://localhost:8080/"
        },
        "id": "GHsPjvqyG5qH",
        "outputId": "24ecfe76-521b-475b-9c3c-6bb75c6e9ddc"
      },
      "source": [
        "class student:\r\n",
        "  def __init__(self, name, rollnum):\r\n",
        "    self.name = name\r\n",
        "    self.rollnum = rollnum\r\n",
        "  \r\n",
        "  def display(self):\r\n",
        "    print(f\"The name of the student is {self.name} and roll number is {self.rollnum}\")\r\n",
        "\r\n",
        "  def setAge(self, age):\r\n",
        "    self.age = age\r\n",
        "    print(f\"The age of the student {self.name} is {self.age}\")\r\n",
        "\r\n",
        "  def setMarks(self, marks):\r\n",
        "    self.marks = marks\r\n",
        "    print(f\"The marks of the student is {self.marks}\")\r\n",
        "\r\n",
        "s = student('Amy', 11)\r\n",
        "s.display()\r\n",
        "s.setAge(25)\r\n",
        "s.setMarks(100)"
      ],
      "execution_count": 26,
      "outputs": [
        {
          "output_type": "stream",
          "text": [
            "The name of the student is Amy and roll number is 11\n",
            "The age of the student Amy is 25\n",
            "The marks of the student is 100\n"
          ],
          "name": "stdout"
        }
      ]
    },
    {
      "cell_type": "markdown",
      "metadata": {
        "id": "g81bFmR0G6vn"
      },
      "source": [
        "**6. Write a Python class named Rectangle constructed by a\r\n",
        "length and width and a method which will compute the area\r\n",
        "of a rectangle.**"
      ]
    },
    {
      "cell_type": "code",
      "metadata": {
        "colab": {
          "base_uri": "https://localhost:8080/"
        },
        "id": "Le6EIRfTG_pU",
        "outputId": "75dc9a44-7d68-4a8f-9732-b8e6ecc5bfbb"
      },
      "source": [
        "class Rectangle:\r\n",
        "  def __init__(self, length, width):\r\n",
        "    self.length = length\r\n",
        "    self.width = width\r\n",
        "\r\n",
        "  def areaRect(self):\r\n",
        "    return self.length*self.width\r\n",
        "\r\n",
        "rect = Rectangle(5, 8)\r\n",
        "print(\"The area of Rectangle: \",rect.areaRect())"
      ],
      "execution_count": 27,
      "outputs": [
        {
          "output_type": "stream",
          "text": [
            "The area of Rectangle:  40\n"
          ],
          "name": "stdout"
        }
      ]
    }
  ]
}